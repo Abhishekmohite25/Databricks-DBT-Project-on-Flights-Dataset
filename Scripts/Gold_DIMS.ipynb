{
 "cells": [
  {
   "cell_type": "code",
   "execution_count": 0,
   "metadata": {
    "application/vnd.databricks.v1+cell": {
     "cellMetadata": {
      "byteLimit": 2048000,
      "rowLimit": 10000
     },
     "inputWidgets": {},
     "nuid": "dd3834d8-d45b-4cd3-b5c8-8a0e040b6ece",
     "showTitle": false,
     "tableResultSettingsMap": {},
     "title": ""
    }
   },
   "outputs": [],
   "source": [
    "from pyspark.sql.functions import *\n",
    "from pyspark.sql.types import *"
   ]
  },
  {
   "cell_type": "code",
   "execution_count": 0,
   "metadata": {
    "application/vnd.databricks.v1+cell": {
     "cellMetadata": {
      "byteLimit": 2048000,
      "implicitDf": true,
      "rowLimit": 10000
     },
     "inputWidgets": {},
     "nuid": "7f9ab56e-25ab-45d0-9056-1307f0c99fcf",
     "showTitle": false,
     "tableResultSettingsMap": {},
     "title": ""
    }
   },
   "outputs": [],
   "source": [
    "# %sql\n",
    "# SELECT * FROM workspace.silver.silver_flights"
   ]
  },
  {
   "cell_type": "markdown",
   "metadata": {
    "application/vnd.databricks.v1+cell": {
     "cellMetadata": {
      "byteLimit": 2048000,
      "rowLimit": 10000
     },
     "inputWidgets": {},
     "nuid": "988ce815-9088-4fac-aaa7-3c6a733ddee7",
     "showTitle": false,
     "tableResultSettingsMap": {},
     "title": ""
    }
   },
   "source": [
    "# Paramaters for Flights"
   ]
  },
  {
   "cell_type": "code",
   "execution_count": 0,
   "metadata": {
    "application/vnd.databricks.v1+cell": {
     "cellMetadata": {
      "byteLimit": 2048000,
      "rowLimit": 10000
     },
     "inputWidgets": {},
     "nuid": "be8da2f9-e858-4b41-9252-8b8e7fcb8b06",
     "showTitle": false,
     "tableResultSettingsMap": {},
     "title": ""
    }
   },
   "outputs": [],
   "source": [
    "#catalog\n",
    "catalog = \"workspace\"\n",
    "\n",
    "# Key Cols List\n",
    "key_cols = \"['flight_id']\"\n",
    "key_cols_list = eval(key_cols)\n",
    "\n",
    "#CDC Column\n",
    "cdc_col = \"modifiedDate\"\n",
    "\n",
    "#Back dated Refresh\n",
    "backdated_refresh = \"\"\n",
    "\n",
    "#Source Object\n",
    "source_object = \"silver_flights\"\n",
    "\n",
    "#Source Schema\n",
    "source_schema = \"silver\"\n",
    "\n",
    "#Target Object\n",
    "target_object = \"DimFlights\"\n",
    "\n",
    "#Target Schema\n",
    "target_schema = \"gold\"\n",
    "\n",
    "#Surrogate Key Column\n",
    "surrogate_key = \"DimFlightsKey\""
   ]
  },
  {
   "cell_type": "markdown",
   "metadata": {
    "application/vnd.databricks.v1+cell": {
     "cellMetadata": {},
     "inputWidgets": {},
     "nuid": "e3784af5-113a-4e91-9ae1-61fd567ea21e",
     "showTitle": false,
     "tableResultSettingsMap": {},
     "title": ""
    }
   },
   "source": [
    "# Paramaters for Airports"
   ]
  },
  {
   "cell_type": "code",
   "execution_count": 0,
   "metadata": {
    "application/vnd.databricks.v1+cell": {
     "cellMetadata": {
      "byteLimit": 2048000,
      "rowLimit": 10000
     },
     "inputWidgets": {},
     "nuid": "d659ca7e-dcad-4fc6-87a7-c8356a35c65c",
     "showTitle": false,
     "tableResultSettingsMap": {},
     "title": ""
    }
   },
   "outputs": [],
   "source": [
    "# #catalog\n",
    "# catalog = \"workspace\"\n",
    "\n",
    "# # Key Cols List\n",
    "# key_cols = \"['airport_id']\"\n",
    "# key_cols_list = eval(key_cols)\n",
    "\n",
    "# #CDC Column\n",
    "# cdc_col = \"modifiedDate\"\n",
    "\n",
    "# #Back dated Refresh\n",
    "# backdated_refresh = \"\"\n",
    "\n",
    "# #Source Object\n",
    "# source_object = \"silver_airports\"\n",
    "\n",
    "# #Source Schema\n",
    "# source_schema = \"silver\"\n",
    "\n",
    "# #Target Object\n",
    "# target_object = \"DimAirports\"\n",
    "\n",
    "# #Target Schema\n",
    "# target_schema = \"gold\"\n",
    "\n",
    "# #Surrogate Key Column\n",
    "# surrogate_key = \"DimAirportsKey\""
   ]
  },
  {
   "cell_type": "markdown",
   "metadata": {
    "application/vnd.databricks.v1+cell": {
     "cellMetadata": {},
     "inputWidgets": {},
     "nuid": "fa7c7830-191a-476c-90ff-f0fd7faea68e",
     "showTitle": false,
     "tableResultSettingsMap": {},
     "title": ""
    }
   },
   "source": [
    "# Paramaters for Parameters"
   ]
  },
  {
   "cell_type": "code",
   "execution_count": 0,
   "metadata": {
    "application/vnd.databricks.v1+cell": {
     "cellMetadata": {
      "byteLimit": 2048000,
      "rowLimit": 10000
     },
     "inputWidgets": {},
     "nuid": "46033586-1d93-4284-a61d-a3e44bc08c1d",
     "showTitle": false,
     "tableResultSettingsMap": {},
     "title": ""
    }
   },
   "outputs": [],
   "source": [
    "# #catalog\n",
    "# catalog = \"workspace\"\n",
    "\n",
    "# # Key Cols List\n",
    "# key_cols = \"['passenger_id']\"\n",
    "# key_cols_list = eval(key_cols)\n",
    "\n",
    "# #CDC Column\n",
    "# cdc_col = \"modifiedDate\"\n",
    "\n",
    "# #Back dated Refresh\n",
    "# backdated_refresh = \"\"\n",
    "\n",
    "# #Source Object\n",
    "# source_object = \"silver_passengers\"\n",
    "\n",
    "# #Source Schema\n",
    "# source_schema = \"silver\"\n",
    "\n",
    "# #Target Object\n",
    "# target_object = \"DimPassengers\"\n",
    "\n",
    "# #Target Schema\n",
    "# target_schema = \"gold\"\n",
    "\n",
    "# #Surrogate Key Column\n",
    "# surrogate_key = \"DimPassengersKey\""
   ]
  },
  {
   "cell_type": "markdown",
   "metadata": {
    "application/vnd.databricks.v1+cell": {
     "cellMetadata": {
      "byteLimit": 2048000,
      "rowLimit": 10000
     },
     "inputWidgets": {},
     "nuid": "4a9e13e6-c8c8-40ec-ad40-5b462643ff9c",
     "showTitle": false,
     "tableResultSettingsMap": {},
     "title": ""
    }
   },
   "source": [
    "# **Incremental Data Ingestion**"
   ]
  },
  {
   "cell_type": "markdown",
   "metadata": {
    "application/vnd.databricks.v1+cell": {
     "cellMetadata": {
      "byteLimit": 2048000,
      "rowLimit": 10000
     },
     "inputWidgets": {},
     "nuid": "3155e73d-1100-442c-a7da-298972cfe62b",
     "showTitle": false,
     "tableResultSettingsMap": {},
     "title": ""
    }
   },
   "source": [
    "**Last Load Date**"
   ]
  },
  {
   "cell_type": "code",
   "execution_count": 0,
   "metadata": {
    "application/vnd.databricks.v1+cell": {
     "cellMetadata": {
      "byteLimit": 2048000,
      "rowLimit": 10000
     },
     "inputWidgets": {},
     "nuid": "92c56ced-86f6-4aae-a719-65ec121263e2",
     "showTitle": false,
     "tableResultSettingsMap": {},
     "title": ""
    }
   },
   "outputs": [
    {
     "output_type": "execute_result",
     "data": {
      "text/plain": [
       "datetime.datetime(2025, 7, 14, 7, 0, 42, 52000)"
      ]
     },
     "execution_count": 62,
     "metadata": {},
     "output_type": "execute_result"
    }
   ],
   "source": [
    "#No Back Dated Refresh\n",
    "if len(backdated_refresh) == 0:\n",
    "    \n",
    "    #If table exists in the destination \n",
    "    if spark.catalog.tableExists(f\"{catalog}.{target_schema}.{target_object}\"):\n",
    "\n",
    "        last_load = spark.sql(f\"SELECT max({cdc_col}) FROM {catalog}.{target_schema}.{target_object}\").collect()[0][0]\n",
    "    \n",
    "    else:\n",
    "        \n",
    "        last_load = \"1900-01-01 00:00:00\"\n",
    "\n",
    "#Back Dated Refresh\n",
    "else:\n",
    "\n",
    "    last_load = backdated_refresh\n",
    "\n",
    "last_load"
   ]
  },
  {
   "cell_type": "code",
   "execution_count": 0,
   "metadata": {
    "application/vnd.databricks.v1+cell": {
     "cellMetadata": {
      "byteLimit": 2048000,
      "rowLimit": 10000
     },
     "inputWidgets": {},
     "nuid": "81c69c7b-065b-4d7c-ba9d-69f3618d5e13",
     "showTitle": false,
     "tableResultSettingsMap": {},
     "title": ""
    }
   },
   "outputs": [],
   "source": [
    "df_src = spark.sql(f\"SELECT * FROM {catalog}.{source_schema}.{source_object} WHERE {cdc_col} > '{last_load}'\")"
   ]
  },
  {
   "cell_type": "code",
   "execution_count": 0,
   "metadata": {
    "application/vnd.databricks.v1+cell": {
     "cellMetadata": {
      "byteLimit": 2048000,
      "rowLimit": 10000
     },
     "inputWidgets": {},
     "nuid": "fe94ba16-df34-419f-916d-4d207ef9f04e",
     "showTitle": false,
     "tableResultSettingsMap": {
      "0": {
       "dataGridStateBlob": "{\"version\":1,\"tableState\":{\"columnPinning\":{\"left\":[\"#row_number#\"],\"right\":[]},\"columnSizing\":{},\"columnVisibility\":{}},\"settings\":{\"columns\":{}},\"syncTimestamp\":1752516885930}",
       "filterBlob": null,
       "queryPlanFiltersBlob": null,
       "tableResultIndex": 0
      }
     },
     "title": ""
    }
   },
   "outputs": [
    {
     "output_type": "display_data",
     "data": {
      "text/html": [
       "<style scoped>\n",
       "  .table-result-container {\n",
       "    max-height: 300px;\n",
       "    overflow: auto;\n",
       "  }\n",
       "  table, th, td {\n",
       "    border: 1px solid black;\n",
       "    border-collapse: collapse;\n",
       "  }\n",
       "  th, td {\n",
       "    padding: 5px;\n",
       "  }\n",
       "  th {\n",
       "    text-align: left;\n",
       "  }\n",
       "</style><div class='table-result-container'><table class='table-result'><thead style='background-color: white'><tr><th>flight_id</th><th>airline</th><th>origin</th><th>destination</th><th>flight_date</th><th>modifiedDate</th></tr></thead><tbody><tr><td>F0113</td><td>Air Asia</td><td>North Mistyberg</td><td>East Lisaton</td><td>2025-07-02</td><td>2025-07-15T14:22:01.525Z</td></tr><tr><td>F0111</td><td>United</td><td>South Michellemouth</td><td>Jacquelinechester</td><td>2025-07-12</td><td>2025-07-15T14:22:01.525Z</td></tr><tr><td>F0112</td><td>Ryanair</td><td>Lake David</td><td>Port Michael</td><td>2025-07-12</td><td>2025-07-15T14:22:01.525Z</td></tr><tr><td>F0003</td><td>Jet Airways</td><td>East Patrickborough</td><td>North Mary</td><td>2025-07-03</td><td>2025-07-15T14:22:01.525Z</td></tr><tr><td>F0052</td><td>IndiGo</td><td>Lake Richard</td><td>Brookston</td><td>2025-06-28</td><td>2025-07-15T14:22:01.525Z</td></tr><tr><td>F0032</td><td>British Airways</td><td>Bushhaven</td><td>Patriciamouth</td><td>2025-07-30</td><td>2025-07-15T14:22:01.525Z</td></tr><tr><td>F0005</td><td>IndiGo</td><td>Bennettside</td><td>New Mistyhaven</td><td>2025-06-24</td><td>2025-07-15T14:22:01.525Z</td></tr><tr><td>F0045</td><td>IndiGo</td><td>North Michaelville</td><td>Russellton</td><td>2025-07-16</td><td>2025-07-15T14:22:01.525Z</td></tr></tbody></table></div>"
      ]
     },
     "metadata": {
      "application/vnd.databricks.v1+output": {
       "addedWidgets": {},
       "aggData": [],
       "aggError": "",
       "aggOverflow": false,
       "aggSchema": [],
       "aggSeriesLimitReached": false,
       "aggType": "",
       "arguments": {},
       "columnCustomDisplayInfos": {},
       "data": [
        [
         "F0113",
         "Air Asia",
         "North Mistyberg",
         "East Lisaton",
         "2025-07-02",
         "2025-07-15T14:22:01.525Z"
        ],
        [
         "F0111",
         "United",
         "South Michellemouth",
         "Jacquelinechester",
         "2025-07-12",
         "2025-07-15T14:22:01.525Z"
        ],
        [
         "F0112",
         "Ryanair",
         "Lake David",
         "Port Michael",
         "2025-07-12",
         "2025-07-15T14:22:01.525Z"
        ],
        [
         "F0003",
         "Jet Airways",
         "East Patrickborough",
         "North Mary",
         "2025-07-03",
         "2025-07-15T14:22:01.525Z"
        ],
        [
         "F0052",
         "IndiGo",
         "Lake Richard",
         "Brookston",
         "2025-06-28",
         "2025-07-15T14:22:01.525Z"
        ],
        [
         "F0032",
         "British Airways",
         "Bushhaven",
         "Patriciamouth",
         "2025-07-30",
         "2025-07-15T14:22:01.525Z"
        ],
        [
         "F0005",
         "IndiGo",
         "Bennettside",
         "New Mistyhaven",
         "2025-06-24",
         "2025-07-15T14:22:01.525Z"
        ],
        [
         "F0045",
         "IndiGo",
         "North Michaelville",
         "Russellton",
         "2025-07-16",
         "2025-07-15T14:22:01.525Z"
        ]
       ],
       "datasetInfos": [],
       "dbfsResultPath": null,
       "isJsonSchema": true,
       "metadata": {},
       "overflow": false,
       "plotOptions": {
        "customPlotOptions": {},
        "displayType": "table",
        "pivotAggregation": null,
        "pivotColumns": null,
        "xColumns": null,
        "yColumns": null
       },
       "removedWidgets": [],
       "schema": [
        {
         "metadata": "{}",
         "name": "flight_id",
         "type": "\"string\""
        },
        {
         "metadata": "{}",
         "name": "airline",
         "type": "\"string\""
        },
        {
         "metadata": "{}",
         "name": "origin",
         "type": "\"string\""
        },
        {
         "metadata": "{}",
         "name": "destination",
         "type": "\"string\""
        },
        {
         "metadata": "{}",
         "name": "flight_date",
         "type": "\"date\""
        },
        {
         "metadata": "{}",
         "name": "modifiedDate",
         "type": "\"timestamp\""
        }
       ],
       "type": "table"
      }
     },
     "output_type": "display_data"
    }
   ],
   "source": [
    "#df_src.display()"
   ]
  },
  {
   "cell_type": "markdown",
   "metadata": {
    "application/vnd.databricks.v1+cell": {
     "cellMetadata": {
      "byteLimit": 2048000,
      "rowLimit": 10000
     },
     "inputWidgets": {},
     "nuid": "206e1dbb-847c-415f-a788-f5c9880202e3",
     "showTitle": false,
     "tableResultSettingsMap": {},
     "title": ""
    }
   },
   "source": [
    "**OLD vs NEW Records**"
   ]
  },
  {
   "cell_type": "code",
   "execution_count": 0,
   "metadata": {
    "application/vnd.databricks.v1+cell": {
     "cellMetadata": {
      "byteLimit": 2048000,
      "rowLimit": 10000
     },
     "inputWidgets": {},
     "nuid": "8af151bc-c844-4e85-a8ae-d939daae89ed",
     "showTitle": false,
     "tableResultSettingsMap": {},
     "title": ""
    }
   },
   "outputs": [],
   "source": [
    "if spark.catalog.tableExists(f\"{catalog}.{target_schema}.{target_object}\"):\n",
    "\n",
    "    #Key Columns String for Incremental\n",
    "    key_cols_string_incremental = \", \".join(key_cols_list)\n",
    "    \n",
    "    df_trg = spark.sql(f\"SELECT {key_cols_string_incremental}, {surrogate_key}, create_date, update_date  FROM {catalog}.{target_schema}.{target_object}\")\n",
    "\n",
    "else: \n",
    "\n",
    "    #Key Columns String for Initial\n",
    "    key_cols_string_init = [f\"'' AS {i} \" for i in key_cols_list]\n",
    "    key_cols_string_init = \", \".join(key_cols_string_init)\n",
    "    df_trg = spark.sql(f\"\"\"SELECT {key_cols_string_init}, CAST('0' AS INT) AS {surrogate_key}, CAST('1900-01-01 00:00:00' as timestamp) AS create_date, \n",
    "                                                CAST('1900-01-01 00:00:00' as timestamp) AS update_date  WHERE 1=0 \"\"\")\n"
   ]
  },
  {
   "cell_type": "code",
   "execution_count": 0,
   "metadata": {
    "application/vnd.databricks.v1+cell": {
     "cellMetadata": {
      "byteLimit": 2048000,
      "rowLimit": 10000
     },
     "inputWidgets": {},
     "nuid": "9ce3ff81-9ec4-4223-9571-340649edaf4a",
     "showTitle": false,
     "tableResultSettingsMap": {
      "0": {
       "dataGridStateBlob": "{\"version\":1,\"tableState\":{\"columnPinning\":{\"left\":[\"#row_number#\"],\"right\":[]},\"columnSizing\":{},\"columnVisibility\":{}},\"settings\":{\"columns\":{}},\"syncTimestamp\":1752589797864}",
       "filterBlob": null,
       "queryPlanFiltersBlob": null,
       "tableResultIndex": 0
      }
     },
     "title": ""
    }
   },
   "outputs": [],
   "source": [
    "#df_trg.display()"
   ]
  },
  {
   "cell_type": "markdown",
   "metadata": {
    "application/vnd.databricks.v1+cell": {
     "cellMetadata": {
      "byteLimit": 2048000,
      "rowLimit": 10000
     },
     "inputWidgets": {},
     "nuid": "e5821ba7-9bdc-4740-98a2-86fa80b1eb36",
     "showTitle": false,
     "tableResultSettingsMap": {},
     "title": ""
    }
   },
   "source": [
    "### Join condition"
   ]
  },
  {
   "cell_type": "code",
   "execution_count": 0,
   "metadata": {
    "application/vnd.databricks.v1+cell": {
     "cellMetadata": {
      "byteLimit": 2048000,
      "rowLimit": 10000
     },
     "inputWidgets": {},
     "nuid": "9c746fd9-4ae0-405b-84a3-5b94b9e029b9",
     "showTitle": false,
     "tableResultSettingsMap": {},
     "title": ""
    }
   },
   "outputs": [],
   "source": [
    "join_condition = ' AND '.join([f\"src.{i} = trg.{i}\" for i in key_cols_list])"
   ]
  },
  {
   "cell_type": "code",
   "execution_count": 0,
   "metadata": {
    "application/vnd.databricks.v1+cell": {
     "cellMetadata": {
      "byteLimit": 2048000,
      "rowLimit": 10000
     },
     "inputWidgets": {},
     "nuid": "9b54fefd-fac8-437d-9a0f-7c15a3b97b3b",
     "showTitle": false,
     "tableResultSettingsMap": {},
     "title": ""
    }
   },
   "outputs": [],
   "source": [
    "df_src.createOrReplaceTempView(\"src\")\n",
    "df_trg.createOrReplaceTempView(\"trg\")\n",
    "\n",
    "df_join = spark.sql(f\"\"\"\n",
    "SELECT\n",
    "    src.*,\n",
    "    trg.{surrogate_key},\n",
    "    trg.create_date,\n",
    "    trg.update_date\n",
    "FROM\n",
    "    src\n",
    "    LEFT JOIN trg\n",
    "        ON {join_condition}\n",
    "\"\"\")"
   ]
  },
  {
   "cell_type": "code",
   "execution_count": 0,
   "metadata": {
    "application/vnd.databricks.v1+cell": {
     "cellMetadata": {
      "byteLimit": 2048000,
      "rowLimit": 10000
     },
     "inputWidgets": {},
     "nuid": "1849a534-d0bb-47ae-be2f-1ba4b92b6095",
     "showTitle": false,
     "tableResultSettingsMap": {
      "0": {
       "dataGridStateBlob": "{\"version\":1,\"tableState\":{\"columnPinning\":{\"left\":[\"#row_number#\"],\"right\":[]},\"columnSizing\":{},\"columnVisibility\":{}},\"settings\":{\"columns\":{}},\"syncTimestamp\":1752589804536}",
       "filterBlob": null,
       "queryPlanFiltersBlob": null,
       "tableResultIndex": 0
      }
     },
     "title": ""
    }
   },
   "outputs": [
    {
     "output_type": "display_data",
     "data": {
      "text/html": [
       "<style scoped>\n",
       "  .table-result-container {\n",
       "    max-height: 300px;\n",
       "    overflow: auto;\n",
       "  }\n",
       "  table, th, td {\n",
       "    border: 1px solid black;\n",
       "    border-collapse: collapse;\n",
       "  }\n",
       "  th, td {\n",
       "    padding: 5px;\n",
       "  }\n",
       "  th {\n",
       "    text-align: left;\n",
       "  }\n",
       "</style><div class='table-result-container'><table class='table-result'><thead style='background-color: white'><tr><th>flight_id</th><th>airline</th><th>origin</th><th>destination</th><th>flight_date</th><th>modifiedDate</th><th>DimFlightsKey</th><th>create_date</th><th>update_date</th></tr></thead><tbody><tr><td>F0113</td><td>Air Asia</td><td>North Mistyberg</td><td>East Lisaton</td><td>2025-07-02</td><td>2025-07-15T14:22:01.525Z</td><td>null</td><td>null</td><td>null</td></tr><tr><td>F0111</td><td>United</td><td>South Michellemouth</td><td>Jacquelinechester</td><td>2025-07-12</td><td>2025-07-15T14:22:01.525Z</td><td>null</td><td>null</td><td>null</td></tr><tr><td>F0112</td><td>Ryanair</td><td>Lake David</td><td>Port Michael</td><td>2025-07-12</td><td>2025-07-15T14:22:01.525Z</td><td>null</td><td>null</td><td>null</td></tr><tr><td>F0003</td><td>Jet Airways</td><td>East Patrickborough</td><td>North Mary</td><td>2025-07-03</td><td>2025-07-15T14:22:01.525Z</td><td>13</td><td>2025-07-14T17:55:47.077Z</td><td>2025-07-14T18:09:38.512Z</td></tr><tr><td>F0052</td><td>IndiGo</td><td>Lake Richard</td><td>Brookston</td><td>2025-06-28</td><td>2025-07-15T14:22:01.525Z</td><td>4</td><td>2025-07-14T17:55:47.077Z</td><td>2025-07-14T18:09:38.512Z</td></tr><tr><td>F0032</td><td>British Airways</td><td>Bushhaven</td><td>Patriciamouth</td><td>2025-07-30</td><td>2025-07-15T14:22:01.525Z</td><td>40</td><td>2025-07-14T17:55:47.077Z</td><td>2025-07-14T18:09:38.512Z</td></tr><tr><td>F0005</td><td>IndiGo</td><td>Bennettside</td><td>New Mistyhaven</td><td>2025-06-24</td><td>2025-07-15T14:22:01.525Z</td><td>7</td><td>2025-07-14T17:55:47.077Z</td><td>2025-07-14T18:09:38.512Z</td></tr><tr><td>F0045</td><td>IndiGo</td><td>North Michaelville</td><td>Russellton</td><td>2025-07-16</td><td>2025-07-15T14:22:01.525Z</td><td>16</td><td>2025-07-14T17:55:47.077Z</td><td>2025-07-14T18:09:38.512Z</td></tr></tbody></table></div>"
      ]
     },
     "metadata": {
      "application/vnd.databricks.v1+output": {
       "addedWidgets": {},
       "aggData": [],
       "aggError": "",
       "aggOverflow": false,
       "aggSchema": [],
       "aggSeriesLimitReached": false,
       "aggType": "",
       "arguments": {},
       "columnCustomDisplayInfos": {},
       "data": [
        [
         "F0113",
         "Air Asia",
         "North Mistyberg",
         "East Lisaton",
         "2025-07-02",
         "2025-07-15T14:22:01.525Z",
         null,
         null,
         null
        ],
        [
         "F0111",
         "United",
         "South Michellemouth",
         "Jacquelinechester",
         "2025-07-12",
         "2025-07-15T14:22:01.525Z",
         null,
         null,
         null
        ],
        [
         "F0112",
         "Ryanair",
         "Lake David",
         "Port Michael",
         "2025-07-12",
         "2025-07-15T14:22:01.525Z",
         null,
         null,
         null
        ],
        [
         "F0003",
         "Jet Airways",
         "East Patrickborough",
         "North Mary",
         "2025-07-03",
         "2025-07-15T14:22:01.525Z",
         13,
         "2025-07-14T17:55:47.077Z",
         "2025-07-14T18:09:38.512Z"
        ],
        [
         "F0052",
         "IndiGo",
         "Lake Richard",
         "Brookston",
         "2025-06-28",
         "2025-07-15T14:22:01.525Z",
         4,
         "2025-07-14T17:55:47.077Z",
         "2025-07-14T18:09:38.512Z"
        ],
        [
         "F0032",
         "British Airways",
         "Bushhaven",
         "Patriciamouth",
         "2025-07-30",
         "2025-07-15T14:22:01.525Z",
         40,
         "2025-07-14T17:55:47.077Z",
         "2025-07-14T18:09:38.512Z"
        ],
        [
         "F0005",
         "IndiGo",
         "Bennettside",
         "New Mistyhaven",
         "2025-06-24",
         "2025-07-15T14:22:01.525Z",
         7,
         "2025-07-14T17:55:47.077Z",
         "2025-07-14T18:09:38.512Z"
        ],
        [
         "F0045",
         "IndiGo",
         "North Michaelville",
         "Russellton",
         "2025-07-16",
         "2025-07-15T14:22:01.525Z",
         16,
         "2025-07-14T17:55:47.077Z",
         "2025-07-14T18:09:38.512Z"
        ]
       ],
       "datasetInfos": [],
       "dbfsResultPath": null,
       "isJsonSchema": true,
       "metadata": {},
       "overflow": false,
       "plotOptions": {
        "customPlotOptions": {},
        "displayType": "table",
        "pivotAggregation": null,
        "pivotColumns": null,
        "xColumns": null,
        "yColumns": null
       },
       "removedWidgets": [],
       "schema": [
        {
         "metadata": "{}",
         "name": "flight_id",
         "type": "\"string\""
        },
        {
         "metadata": "{}",
         "name": "airline",
         "type": "\"string\""
        },
        {
         "metadata": "{}",
         "name": "origin",
         "type": "\"string\""
        },
        {
         "metadata": "{}",
         "name": "destination",
         "type": "\"string\""
        },
        {
         "metadata": "{}",
         "name": "flight_date",
         "type": "\"date\""
        },
        {
         "metadata": "{}",
         "name": "modifiedDate",
         "type": "\"timestamp\""
        },
        {
         "metadata": "{}",
         "name": "DimFlightsKey",
         "type": "\"long\""
        },
        {
         "metadata": "{}",
         "name": "create_date",
         "type": "\"timestamp\""
        },
        {
         "metadata": "{}",
         "name": "update_date",
         "type": "\"timestamp\""
        }
       ],
       "type": "table"
      }
     },
     "output_type": "display_data"
    }
   ],
   "source": [
    "#df_join.display()"
   ]
  },
  {
   "cell_type": "code",
   "execution_count": 0,
   "metadata": {
    "application/vnd.databricks.v1+cell": {
     "cellMetadata": {
      "byteLimit": 2048000,
      "rowLimit": 10000
     },
     "inputWidgets": {},
     "nuid": "3abf3af7-584e-49d9-b7d6-84153d9b4145",
     "showTitle": false,
     "tableResultSettingsMap": {
      "0": {
       "dataGridStateBlob": "{\"version\":1,\"tableState\":{\"columnPinning\":{\"left\":[\"#row_number#\"],\"right\":[]},\"columnSizing\":{},\"columnVisibility\":{}},\"settings\":{\"columns\":{}},\"syncTimestamp\":1752589804628}",
       "filterBlob": null,
       "queryPlanFiltersBlob": null,
       "tableResultIndex": 0
      },
      "1": {
       "dataGridStateBlob": "{\"version\":1,\"tableState\":{\"columnPinning\":{\"left\":[\"#row_number#\"],\"right\":[]},\"columnSizing\":{},\"columnVisibility\":{}},\"settings\":{\"columns\":{}},\"syncTimestamp\":1752589804686}",
       "filterBlob": null,
       "queryPlanFiltersBlob": null,
       "tableResultIndex": 1
      }
     },
     "title": ""
    }
   },
   "outputs": [
    {
     "output_type": "display_data",
     "data": {
      "text/html": [
       "<style scoped>\n",
       "  .table-result-container {\n",
       "    max-height: 300px;\n",
       "    overflow: auto;\n",
       "  }\n",
       "  table, th, td {\n",
       "    border: 1px solid black;\n",
       "    border-collapse: collapse;\n",
       "  }\n",
       "  th, td {\n",
       "    padding: 5px;\n",
       "  }\n",
       "  th {\n",
       "    text-align: left;\n",
       "  }\n",
       "</style><div class='table-result-container'><table class='table-result'><thead style='background-color: white'><tr><th>flight_id</th><th>airline</th><th>origin</th><th>destination</th><th>flight_date</th><th>modifiedDate</th><th>DimFlightsKey</th><th>create_date</th><th>update_date</th></tr></thead><tbody><tr><td>F0003</td><td>Jet Airways</td><td>East Patrickborough</td><td>North Mary</td><td>2025-07-03</td><td>2025-07-15T14:22:01.525Z</td><td>13</td><td>2025-07-14T17:55:47.077Z</td><td>2025-07-14T18:09:38.512Z</td></tr><tr><td>F0052</td><td>IndiGo</td><td>Lake Richard</td><td>Brookston</td><td>2025-06-28</td><td>2025-07-15T14:22:01.525Z</td><td>4</td><td>2025-07-14T17:55:47.077Z</td><td>2025-07-14T18:09:38.512Z</td></tr><tr><td>F0032</td><td>British Airways</td><td>Bushhaven</td><td>Patriciamouth</td><td>2025-07-30</td><td>2025-07-15T14:22:01.525Z</td><td>40</td><td>2025-07-14T17:55:47.077Z</td><td>2025-07-14T18:09:38.512Z</td></tr><tr><td>F0005</td><td>IndiGo</td><td>Bennettside</td><td>New Mistyhaven</td><td>2025-06-24</td><td>2025-07-15T14:22:01.525Z</td><td>7</td><td>2025-07-14T17:55:47.077Z</td><td>2025-07-14T18:09:38.512Z</td></tr><tr><td>F0045</td><td>IndiGo</td><td>North Michaelville</td><td>Russellton</td><td>2025-07-16</td><td>2025-07-15T14:22:01.525Z</td><td>16</td><td>2025-07-14T17:55:47.077Z</td><td>2025-07-14T18:09:38.512Z</td></tr></tbody></table></div>"
      ]
     },
     "metadata": {
      "application/vnd.databricks.v1+output": {
       "addedWidgets": {},
       "aggData": [],
       "aggError": "",
       "aggOverflow": false,
       "aggSchema": [],
       "aggSeriesLimitReached": false,
       "aggType": "",
       "arguments": {},
       "columnCustomDisplayInfos": {},
       "data": [
        [
         "F0003",
         "Jet Airways",
         "East Patrickborough",
         "North Mary",
         "2025-07-03",
         "2025-07-15T14:22:01.525Z",
         13,
         "2025-07-14T17:55:47.077Z",
         "2025-07-14T18:09:38.512Z"
        ],
        [
         "F0052",
         "IndiGo",
         "Lake Richard",
         "Brookston",
         "2025-06-28",
         "2025-07-15T14:22:01.525Z",
         4,
         "2025-07-14T17:55:47.077Z",
         "2025-07-14T18:09:38.512Z"
        ],
        [
         "F0032",
         "British Airways",
         "Bushhaven",
         "Patriciamouth",
         "2025-07-30",
         "2025-07-15T14:22:01.525Z",
         40,
         "2025-07-14T17:55:47.077Z",
         "2025-07-14T18:09:38.512Z"
        ],
        [
         "F0005",
         "IndiGo",
         "Bennettside",
         "New Mistyhaven",
         "2025-06-24",
         "2025-07-15T14:22:01.525Z",
         7,
         "2025-07-14T17:55:47.077Z",
         "2025-07-14T18:09:38.512Z"
        ],
        [
         "F0045",
         "IndiGo",
         "North Michaelville",
         "Russellton",
         "2025-07-16",
         "2025-07-15T14:22:01.525Z",
         16,
         "2025-07-14T17:55:47.077Z",
         "2025-07-14T18:09:38.512Z"
        ]
       ],
       "datasetInfos": [],
       "dbfsResultPath": null,
       "isJsonSchema": true,
       "metadata": {},
       "overflow": false,
       "plotOptions": {
        "customPlotOptions": {},
        "displayType": "table",
        "pivotAggregation": null,
        "pivotColumns": null,
        "xColumns": null,
        "yColumns": null
       },
       "removedWidgets": [],
       "schema": [
        {
         "metadata": "{}",
         "name": "flight_id",
         "type": "\"string\""
        },
        {
         "metadata": "{}",
         "name": "airline",
         "type": "\"string\""
        },
        {
         "metadata": "{}",
         "name": "origin",
         "type": "\"string\""
        },
        {
         "metadata": "{}",
         "name": "destination",
         "type": "\"string\""
        },
        {
         "metadata": "{}",
         "name": "flight_date",
         "type": "\"date\""
        },
        {
         "metadata": "{}",
         "name": "modifiedDate",
         "type": "\"timestamp\""
        },
        {
         "metadata": "{}",
         "name": "DimFlightsKey",
         "type": "\"long\""
        },
        {
         "metadata": "{}",
         "name": "create_date",
         "type": "\"timestamp\""
        },
        {
         "metadata": "{}",
         "name": "update_date",
         "type": "\"timestamp\""
        }
       ],
       "type": "table"
      }
     },
     "output_type": "display_data"
    },
    {
     "output_type": "display_data",
     "data": {
      "text/html": [
       "<style scoped>\n",
       "  .table-result-container {\n",
       "    max-height: 300px;\n",
       "    overflow: auto;\n",
       "  }\n",
       "  table, th, td {\n",
       "    border: 1px solid black;\n",
       "    border-collapse: collapse;\n",
       "  }\n",
       "  th, td {\n",
       "    padding: 5px;\n",
       "  }\n",
       "  th {\n",
       "    text-align: left;\n",
       "  }\n",
       "</style><div class='table-result-container'><table class='table-result'><thead style='background-color: white'><tr><th>flight_id</th><th>airline</th><th>origin</th><th>destination</th><th>flight_date</th><th>modifiedDate</th><th>DimFlightsKey</th><th>create_date</th><th>update_date</th></tr></thead><tbody><tr><td>F0112</td><td>Ryanair</td><td>Lake David</td><td>Port Michael</td><td>2025-07-12</td><td>2025-07-15T14:22:01.525Z</td><td>null</td><td>null</td><td>null</td></tr><tr><td>F0111</td><td>United</td><td>South Michellemouth</td><td>Jacquelinechester</td><td>2025-07-12</td><td>2025-07-15T14:22:01.525Z</td><td>null</td><td>null</td><td>null</td></tr><tr><td>F0113</td><td>Air Asia</td><td>North Mistyberg</td><td>East Lisaton</td><td>2025-07-02</td><td>2025-07-15T14:22:01.525Z</td><td>null</td><td>null</td><td>null</td></tr></tbody></table></div>"
      ]
     },
     "metadata": {
      "application/vnd.databricks.v1+output": {
       "addedWidgets": {},
       "aggData": [],
       "aggError": "",
       "aggOverflow": false,
       "aggSchema": [],
       "aggSeriesLimitReached": false,
       "aggType": "",
       "arguments": {},
       "columnCustomDisplayInfos": {},
       "data": [
        [
         "F0112",
         "Ryanair",
         "Lake David",
         "Port Michael",
         "2025-07-12",
         "2025-07-15T14:22:01.525Z",
         null,
         null,
         null
        ],
        [
         "F0111",
         "United",
         "South Michellemouth",
         "Jacquelinechester",
         "2025-07-12",
         "2025-07-15T14:22:01.525Z",
         null,
         null,
         null
        ],
        [
         "F0113",
         "Air Asia",
         "North Mistyberg",
         "East Lisaton",
         "2025-07-02",
         "2025-07-15T14:22:01.525Z",
         null,
         null,
         null
        ]
       ],
       "datasetInfos": [],
       "dbfsResultPath": null,
       "isJsonSchema": true,
       "metadata": {},
       "overflow": false,
       "plotOptions": {
        "customPlotOptions": {},
        "displayType": "table",
        "pivotAggregation": null,
        "pivotColumns": null,
        "xColumns": null,
        "yColumns": null
       },
       "removedWidgets": [],
       "schema": [
        {
         "metadata": "{}",
         "name": "flight_id",
         "type": "\"string\""
        },
        {
         "metadata": "{}",
         "name": "airline",
         "type": "\"string\""
        },
        {
         "metadata": "{}",
         "name": "origin",
         "type": "\"string\""
        },
        {
         "metadata": "{}",
         "name": "destination",
         "type": "\"string\""
        },
        {
         "metadata": "{}",
         "name": "flight_date",
         "type": "\"date\""
        },
        {
         "metadata": "{}",
         "name": "modifiedDate",
         "type": "\"timestamp\""
        },
        {
         "metadata": "{}",
         "name": "DimFlightsKey",
         "type": "\"long\""
        },
        {
         "metadata": "{}",
         "name": "create_date",
         "type": "\"timestamp\""
        },
        {
         "metadata": "{}",
         "name": "update_date",
         "type": "\"timestamp\""
        }
       ],
       "type": "table"
      }
     },
     "output_type": "display_data"
    }
   ],
   "source": [
    "#OLD Records\n",
    "df_old = df_join.filter(col(f'{surrogate_key}').isNotNull())\n",
    "\n",
    "#NEW Records\n",
    "df_new = df_join.filter(col(f'{surrogate_key}').isNull()) \n",
    "\n",
    "#df_old.display()\n",
    "#df_new.display()"
   ]
  },
  {
   "cell_type": "markdown",
   "metadata": {
    "application/vnd.databricks.v1+cell": {
     "cellMetadata": {
      "byteLimit": 2048000,
      "rowLimit": 10000
     },
     "inputWidgets": {},
     "nuid": "5eb8ad0c-2a4a-440e-8ecb-45a6ceae4245",
     "showTitle": false,
     "tableResultSettingsMap": {},
     "title": ""
    }
   },
   "source": [
    "### Preparing df_old"
   ]
  },
  {
   "cell_type": "code",
   "execution_count": 0,
   "metadata": {
    "application/vnd.databricks.v1+cell": {
     "cellMetadata": {
      "byteLimit": 2048000,
      "rowLimit": 10000
     },
     "inputWidgets": {},
     "nuid": "cf1bb574-6841-4fa9-9455-9327f0c4425e",
     "showTitle": false,
     "tableResultSettingsMap": {},
     "title": ""
    }
   },
   "outputs": [],
   "source": [
    "df_old_enr = df_old.withColumn('update_date',current_timestamp())"
   ]
  },
  {
   "cell_type": "markdown",
   "metadata": {
    "application/vnd.databricks.v1+cell": {
     "cellMetadata": {
      "byteLimit": 2048000,
      "rowLimit": 10000
     },
     "inputWidgets": {},
     "nuid": "4f6aeadb-f352-4e23-917e-16e8541826b9",
     "showTitle": false,
     "tableResultSettingsMap": {},
     "title": ""
    }
   },
   "source": [
    "### Preparing df_new"
   ]
  },
  {
   "cell_type": "code",
   "execution_count": 0,
   "metadata": {
    "application/vnd.databricks.v1+cell": {
     "cellMetadata": {
      "byteLimit": 2048000,
      "rowLimit": 10000
     },
     "inputWidgets": {},
     "nuid": "d62ee95d-3d78-4258-86c4-7c745a63f237",
     "showTitle": false,
     "tableResultSettingsMap": {},
     "title": ""
    }
   },
   "outputs": [],
   "source": [
    "if spark.catalog.tableExists(f\"{catalog}.{target_schema}.{target_object}\"):\n",
    "  max_surrogate_key = spark.sql(f\"\"\"\n",
    "                                SELECT max({surrogate_key}) FROM {catalog}.{target_schema}.{target_object}\n",
    "                                \"\"\").collect()[0][0]\n",
    "  df_new_enr = df_new.withColumn(f'{surrogate_key}',lit(max_surrogate_key)+lit(1)+monotonically_increasing_id())\\\n",
    "                  .withColumn('create_date',current_timestamp())\\\n",
    "                  .withColumn('update_date',current_timestamp())\n",
    "\n",
    "else:\n",
    "  max_surrogate_key = 0\n",
    "  df_new_enr = df_new.withColumn(f'{surrogate_key}',lit(max_surrogate_key)+lit(1)+monotonically_increasing_id())\\\n",
    "                  .withColumn('create_date',current_timestamp())\\\n",
    "                  .withColumn('update_date',current_timestamp())"
   ]
  },
  {
   "cell_type": "code",
   "execution_count": 0,
   "metadata": {
    "application/vnd.databricks.v1+cell": {
     "cellMetadata": {
      "byteLimit": 2048000,
      "rowLimit": 10000
     },
     "inputWidgets": {},
     "nuid": "25cfa757-db31-40ad-9c0c-26afe29b1a9c",
     "showTitle": false,
     "tableResultSettingsMap": {
      "0": {
       "dataGridStateBlob": "{\"version\":1,\"tableState\":{\"columnPinning\":{\"left\":[\"#row_number#\"],\"right\":[]},\"columnSizing\":{},\"columnVisibility\":{}},\"settings\":{\"columns\":{}},\"syncTimestamp\":1752516888603}",
       "filterBlob": null,
       "queryPlanFiltersBlob": null,
       "tableResultIndex": 0
      }
     },
     "title": ""
    }
   },
   "outputs": [
    {
     "output_type": "display_data",
     "data": {
      "text/html": [
       "<style scoped>\n",
       "  .table-result-container {\n",
       "    max-height: 300px;\n",
       "    overflow: auto;\n",
       "  }\n",
       "  table, th, td {\n",
       "    border: 1px solid black;\n",
       "    border-collapse: collapse;\n",
       "  }\n",
       "  th, td {\n",
       "    padding: 5px;\n",
       "  }\n",
       "  th {\n",
       "    text-align: left;\n",
       "  }\n",
       "</style><div class='table-result-container'><table class='table-result'><thead style='background-color: white'><tr><th>flight_id</th><th>airline</th><th>origin</th><th>destination</th><th>flight_date</th><th>modifiedDate</th><th>DimFlightsKey</th><th>create_date</th><th>update_date</th></tr></thead><tbody><tr><td>F0003</td><td>Jet Airways</td><td>East Patrickborough</td><td>North Mary</td><td>2025-07-03</td><td>2025-07-15T14:22:01.525Z</td><td>13</td><td>2025-07-14T17:55:47.077Z</td><td>2025-07-15T14:31:18.562Z</td></tr><tr><td>F0052</td><td>IndiGo</td><td>Lake Richard</td><td>Brookston</td><td>2025-06-28</td><td>2025-07-15T14:22:01.525Z</td><td>4</td><td>2025-07-14T17:55:47.077Z</td><td>2025-07-15T14:31:18.562Z</td></tr><tr><td>F0032</td><td>British Airways</td><td>Bushhaven</td><td>Patriciamouth</td><td>2025-07-30</td><td>2025-07-15T14:22:01.525Z</td><td>40</td><td>2025-07-14T17:55:47.077Z</td><td>2025-07-15T14:31:18.562Z</td></tr><tr><td>F0005</td><td>IndiGo</td><td>Bennettside</td><td>New Mistyhaven</td><td>2025-06-24</td><td>2025-07-15T14:22:01.525Z</td><td>7</td><td>2025-07-14T17:55:47.077Z</td><td>2025-07-15T14:31:18.562Z</td></tr><tr><td>F0045</td><td>IndiGo</td><td>North Michaelville</td><td>Russellton</td><td>2025-07-16</td><td>2025-07-15T14:22:01.525Z</td><td>16</td><td>2025-07-14T17:55:47.077Z</td><td>2025-07-15T14:31:18.562Z</td></tr></tbody></table></div>"
      ]
     },
     "metadata": {
      "application/vnd.databricks.v1+output": {
       "addedWidgets": {},
       "aggData": [],
       "aggError": "",
       "aggOverflow": false,
       "aggSchema": [],
       "aggSeriesLimitReached": false,
       "aggType": "",
       "arguments": {},
       "columnCustomDisplayInfos": {},
       "data": [
        [
         "F0003",
         "Jet Airways",
         "East Patrickborough",
         "North Mary",
         "2025-07-03",
         "2025-07-15T14:22:01.525Z",
         13,
         "2025-07-14T17:55:47.077Z",
         "2025-07-15T14:31:18.562Z"
        ],
        [
         "F0052",
         "IndiGo",
         "Lake Richard",
         "Brookston",
         "2025-06-28",
         "2025-07-15T14:22:01.525Z",
         4,
         "2025-07-14T17:55:47.077Z",
         "2025-07-15T14:31:18.562Z"
        ],
        [
         "F0032",
         "British Airways",
         "Bushhaven",
         "Patriciamouth",
         "2025-07-30",
         "2025-07-15T14:22:01.525Z",
         40,
         "2025-07-14T17:55:47.077Z",
         "2025-07-15T14:31:18.562Z"
        ],
        [
         "F0005",
         "IndiGo",
         "Bennettside",
         "New Mistyhaven",
         "2025-06-24",
         "2025-07-15T14:22:01.525Z",
         7,
         "2025-07-14T17:55:47.077Z",
         "2025-07-15T14:31:18.562Z"
        ],
        [
         "F0045",
         "IndiGo",
         "North Michaelville",
         "Russellton",
         "2025-07-16",
         "2025-07-15T14:22:01.525Z",
         16,
         "2025-07-14T17:55:47.077Z",
         "2025-07-15T14:31:18.562Z"
        ]
       ],
       "datasetInfos": [],
       "dbfsResultPath": null,
       "isJsonSchema": true,
       "metadata": {},
       "overflow": false,
       "plotOptions": {
        "customPlotOptions": {},
        "displayType": "table",
        "pivotAggregation": null,
        "pivotColumns": null,
        "xColumns": null,
        "yColumns": null
       },
       "removedWidgets": [],
       "schema": [
        {
         "metadata": "{}",
         "name": "flight_id",
         "type": "\"string\""
        },
        {
         "metadata": "{}",
         "name": "airline",
         "type": "\"string\""
        },
        {
         "metadata": "{}",
         "name": "origin",
         "type": "\"string\""
        },
        {
         "metadata": "{}",
         "name": "destination",
         "type": "\"string\""
        },
        {
         "metadata": "{}",
         "name": "flight_date",
         "type": "\"date\""
        },
        {
         "metadata": "{}",
         "name": "modifiedDate",
         "type": "\"timestamp\""
        },
        {
         "metadata": "{}",
         "name": "DimFlightsKey",
         "type": "\"long\""
        },
        {
         "metadata": "{}",
         "name": "create_date",
         "type": "\"timestamp\""
        },
        {
         "metadata": "{}",
         "name": "update_date",
         "type": "\"timestamp\""
        }
       ],
       "type": "table"
      }
     },
     "output_type": "display_data"
    }
   ],
   "source": [
    "df_old_enr.display()"
   ]
  },
  {
   "cell_type": "markdown",
   "metadata": {
    "application/vnd.databricks.v1+cell": {
     "cellMetadata": {
      "byteLimit": 2048000,
      "rowLimit": 10000
     },
     "inputWidgets": {},
     "nuid": "a38827a5-b015-4a37-a124-b23cb7b6837e",
     "showTitle": false,
     "tableResultSettingsMap": {},
     "title": ""
    }
   },
   "source": [
    "### Union of OLD and NEW records "
   ]
  },
  {
   "cell_type": "code",
   "execution_count": 0,
   "metadata": {
    "application/vnd.databricks.v1+cell": {
     "cellMetadata": {
      "byteLimit": 2048000,
      "rowLimit": 10000
     },
     "inputWidgets": {},
     "nuid": "d5d59190-f889-4629-b8af-9a197326d6ad",
     "showTitle": false,
     "tableResultSettingsMap": {
      "0": {
       "dataGridStateBlob": "{\"version\":1,\"tableState\":{\"columnPinning\":{\"left\":[\"#row_number#\"],\"right\":[]},\"columnSizing\":{},\"columnVisibility\":{}},\"settings\":{\"columns\":{}},\"syncTimestamp\":1752516900006}",
       "filterBlob": null,
       "queryPlanFiltersBlob": null,
       "tableResultIndex": 0
      }
     },
     "title": ""
    }
   },
   "outputs": [
    {
     "output_type": "display_data",
     "data": {
      "text/html": [
       "<style scoped>\n",
       "  .table-result-container {\n",
       "    max-height: 300px;\n",
       "    overflow: auto;\n",
       "  }\n",
       "  table, th, td {\n",
       "    border: 1px solid black;\n",
       "    border-collapse: collapse;\n",
       "  }\n",
       "  th, td {\n",
       "    padding: 5px;\n",
       "  }\n",
       "  th {\n",
       "    text-align: left;\n",
       "  }\n",
       "</style><div class='table-result-container'><table class='table-result'><thead style='background-color: white'><tr><th>flight_id</th><th>airline</th><th>origin</th><th>destination</th><th>flight_date</th><th>modifiedDate</th><th>DimFlightsKey</th><th>create_date</th><th>update_date</th></tr></thead><tbody><tr><td>F0003</td><td>Jet Airways</td><td>East Patrickborough</td><td>North Mary</td><td>2025-07-03</td><td>2025-07-15T14:22:01.525Z</td><td>13</td><td>2025-07-14T17:55:47.077Z</td><td>2025-07-15T14:31:19.635Z</td></tr><tr><td>F0052</td><td>IndiGo</td><td>Lake Richard</td><td>Brookston</td><td>2025-06-28</td><td>2025-07-15T14:22:01.525Z</td><td>4</td><td>2025-07-14T17:55:47.077Z</td><td>2025-07-15T14:31:19.635Z</td></tr><tr><td>F0032</td><td>British Airways</td><td>Bushhaven</td><td>Patriciamouth</td><td>2025-07-30</td><td>2025-07-15T14:22:01.525Z</td><td>40</td><td>2025-07-14T17:55:47.077Z</td><td>2025-07-15T14:31:19.635Z</td></tr><tr><td>F0005</td><td>IndiGo</td><td>Bennettside</td><td>New Mistyhaven</td><td>2025-06-24</td><td>2025-07-15T14:22:01.525Z</td><td>7</td><td>2025-07-14T17:55:47.077Z</td><td>2025-07-15T14:31:19.635Z</td></tr><tr><td>F0045</td><td>IndiGo</td><td>North Michaelville</td><td>Russellton</td><td>2025-07-16</td><td>2025-07-15T14:22:01.525Z</td><td>16</td><td>2025-07-14T17:55:47.077Z</td><td>2025-07-15T14:31:19.635Z</td></tr><tr><td>F0112</td><td>Ryanair</td><td>Lake David</td><td>Port Michael</td><td>2025-07-12</td><td>2025-07-15T14:22:01.525Z</td><td>111</td><td>2025-07-15T14:31:19.635Z</td><td>2025-07-15T14:31:19.635Z</td></tr><tr><td>F0111</td><td>United</td><td>South Michellemouth</td><td>Jacquelinechester</td><td>2025-07-12</td><td>2025-07-15T14:22:01.525Z</td><td>112</td><td>2025-07-15T14:31:19.635Z</td><td>2025-07-15T14:31:19.635Z</td></tr><tr><td>F0113</td><td>Air Asia</td><td>North Mistyberg</td><td>East Lisaton</td><td>2025-07-02</td><td>2025-07-15T14:22:01.525Z</td><td>113</td><td>2025-07-15T14:31:19.635Z</td><td>2025-07-15T14:31:19.635Z</td></tr></tbody></table></div>"
      ]
     },
     "metadata": {
      "application/vnd.databricks.v1+output": {
       "addedWidgets": {},
       "aggData": [],
       "aggError": "",
       "aggOverflow": false,
       "aggSchema": [],
       "aggSeriesLimitReached": false,
       "aggType": "",
       "arguments": {},
       "columnCustomDisplayInfos": {},
       "data": [
        [
         "F0003",
         "Jet Airways",
         "East Patrickborough",
         "North Mary",
         "2025-07-03",
         "2025-07-15T14:22:01.525Z",
         13,
         "2025-07-14T17:55:47.077Z",
         "2025-07-15T14:31:19.635Z"
        ],
        [
         "F0052",
         "IndiGo",
         "Lake Richard",
         "Brookston",
         "2025-06-28",
         "2025-07-15T14:22:01.525Z",
         4,
         "2025-07-14T17:55:47.077Z",
         "2025-07-15T14:31:19.635Z"
        ],
        [
         "F0032",
         "British Airways",
         "Bushhaven",
         "Patriciamouth",
         "2025-07-30",
         "2025-07-15T14:22:01.525Z",
         40,
         "2025-07-14T17:55:47.077Z",
         "2025-07-15T14:31:19.635Z"
        ],
        [
         "F0005",
         "IndiGo",
         "Bennettside",
         "New Mistyhaven",
         "2025-06-24",
         "2025-07-15T14:22:01.525Z",
         7,
         "2025-07-14T17:55:47.077Z",
         "2025-07-15T14:31:19.635Z"
        ],
        [
         "F0045",
         "IndiGo",
         "North Michaelville",
         "Russellton",
         "2025-07-16",
         "2025-07-15T14:22:01.525Z",
         16,
         "2025-07-14T17:55:47.077Z",
         "2025-07-15T14:31:19.635Z"
        ],
        [
         "F0112",
         "Ryanair",
         "Lake David",
         "Port Michael",
         "2025-07-12",
         "2025-07-15T14:22:01.525Z",
         111,
         "2025-07-15T14:31:19.635Z",
         "2025-07-15T14:31:19.635Z"
        ],
        [
         "F0111",
         "United",
         "South Michellemouth",
         "Jacquelinechester",
         "2025-07-12",
         "2025-07-15T14:22:01.525Z",
         112,
         "2025-07-15T14:31:19.635Z",
         "2025-07-15T14:31:19.635Z"
        ],
        [
         "F0113",
         "Air Asia",
         "North Mistyberg",
         "East Lisaton",
         "2025-07-02",
         "2025-07-15T14:22:01.525Z",
         113,
         "2025-07-15T14:31:19.635Z",
         "2025-07-15T14:31:19.635Z"
        ]
       ],
       "datasetInfos": [],
       "dbfsResultPath": null,
       "isJsonSchema": true,
       "metadata": {},
       "overflow": false,
       "plotOptions": {
        "customPlotOptions": {},
        "displayType": "table",
        "pivotAggregation": null,
        "pivotColumns": null,
        "xColumns": null,
        "yColumns": null
       },
       "removedWidgets": [],
       "schema": [
        {
         "metadata": "{}",
         "name": "flight_id",
         "type": "\"string\""
        },
        {
         "metadata": "{}",
         "name": "airline",
         "type": "\"string\""
        },
        {
         "metadata": "{}",
         "name": "origin",
         "type": "\"string\""
        },
        {
         "metadata": "{}",
         "name": "destination",
         "type": "\"string\""
        },
        {
         "metadata": "{}",
         "name": "flight_date",
         "type": "\"date\""
        },
        {
         "metadata": "{}",
         "name": "modifiedDate",
         "type": "\"timestamp\""
        },
        {
         "metadata": "{}",
         "name": "DimFlightsKey",
         "type": "\"long\""
        },
        {
         "metadata": "{}",
         "name": "create_date",
         "type": "\"timestamp\""
        },
        {
         "metadata": "{}",
         "name": "update_date",
         "type": "\"timestamp\""
        }
       ],
       "type": "table"
      }
     },
     "output_type": "display_data"
    }
   ],
   "source": [
    "df_union = df_old_enr.unionByName(df_new_enr)\n",
    "df_union.display()"
   ]
  },
  {
   "cell_type": "markdown",
   "metadata": {
    "application/vnd.databricks.v1+cell": {
     "cellMetadata": {
      "byteLimit": 2048000,
      "rowLimit": 10000
     },
     "inputWidgets": {},
     "nuid": "f2b864bf-41f9-4c72-8387-74c0de57a496",
     "showTitle": false,
     "tableResultSettingsMap": {},
     "title": ""
    }
   },
   "source": [
    "### Upsert"
   ]
  },
  {
   "cell_type": "code",
   "execution_count": 0,
   "metadata": {
    "application/vnd.databricks.v1+cell": {
     "cellMetadata": {
      "byteLimit": 2048000,
      "rowLimit": 10000
     },
     "inputWidgets": {},
     "nuid": "a2dd43e0-2851-4a4a-be25-a8c8ab711fdc",
     "showTitle": false,
     "tableResultSettingsMap": {},
     "title": ""
    }
   },
   "outputs": [],
   "source": [
    "from delta.tables import DeltaTable"
   ]
  },
  {
   "cell_type": "code",
   "execution_count": 0,
   "metadata": {
    "application/vnd.databricks.v1+cell": {
     "cellMetadata": {
      "byteLimit": 2048000,
      "rowLimit": 10000
     },
     "inputWidgets": {},
     "nuid": "54ad4742-838d-4466-a07f-dedabdbca77d",
     "showTitle": false,
     "tableResultSettingsMap": {},
     "title": ""
    }
   },
   "outputs": [],
   "source": [
    "if spark.catalog.tableExists(f\"{catalog}.{target_schema}.{target_object}\"):\n",
    "  dlt_obj = DeltaTable.forName(spark,f\"{catalog}.{target_schema}.{target_object}\")\n",
    "  dlt_obj.alias(\"trg\").merge(df_union.alias(\"src\"),f\"trg.{surrogate_key} = src.{surrogate_key}\")\\\n",
    "                        .whenMatchedUpdateAll(condition = f'src.{cdc_col} >= trg.{cdc_col}')\\\n",
    "                        .whenNotMatchedInsertAll()\\\n",
    "                        .execute()\n",
    "else:\n",
    "  df_union.write.format('delta')\\\n",
    "                .mode(\"append\")\\\n",
    "                .saveAsTable(f\"{catalog}.{target_schema}.{target_object}\")"
   ]
  },
  {
   "cell_type": "code",
   "execution_count": 0,
   "metadata": {
    "application/vnd.databricks.v1+cell": {
     "cellMetadata": {
      "byteLimit": 2048000,
      "implicitDf": true,
      "rowLimit": 10000
     },
     "inputWidgets": {},
     "nuid": "0d9a5f12-c0a4-4b14-ab25-73e9b4be780c",
     "showTitle": false,
     "tableResultSettingsMap": {
      "0": {
       "dataGridStateBlob": "{\"version\":1,\"tableState\":{\"columnPinning\":{\"left\":[\"#row_number#\"],\"right\":[]},\"columnSizing\":{\"passenger_id\":118,\"gender\":90,\"DimPassengersKey\":156},\"columnVisibility\":{}},\"settings\":{\"columns\":{}},\"syncTimestamp\":1752607555861}",
       "filterBlob": null,
       "queryPlanFiltersBlob": null,
       "tableResultIndex": 0
      }
     },
     "title": ""
    }
   },
   "outputs": [
    {
     "output_type": "display_data",
     "data": {
      "text/html": [
       "<style scoped>\n",
       "  .table-result-container {\n",
       "    max-height: 300px;\n",
       "    overflow: auto;\n",
       "  }\n",
       "  table, th, td {\n",
       "    border: 1px solid black;\n",
       "    border-collapse: collapse;\n",
       "  }\n",
       "  th, td {\n",
       "    padding: 5px;\n",
       "  }\n",
       "  th {\n",
       "    text-align: left;\n",
       "  }\n",
       "</style><div class='table-result-container'><table class='table-result'><thead style='background-color: white'><tr><th>passenger_id</th><th>name</th><th>gender</th><th>nationality</th><th>modifiedDate</th><th>DimPassengersKey</th><th>create_date</th><th>update_date</th></tr></thead><tbody><tr><td>P0049</td><td>Justin Thomas</td><td>Female</td><td>Tokelau</td><td>2025-07-14T18:37:51.022Z</td><td>7</td><td>2025-07-14T18:21:46.226Z</td><td>2025-07-14T18:41:08.649Z</td></tr><tr><td>P0108</td><td>Brian Anderson</td><td>Female</td><td>Eritrea</td><td>2025-07-14T18:37:51.022Z</td><td>36</td><td>2025-07-14T18:21:46.226Z</td><td>2025-07-14T18:41:08.649Z</td></tr><tr><td>P0032</td><td>Daniel Douglas</td><td>Male</td><td>Singapore</td><td>2025-07-14T18:37:51.022Z</td><td>46</td><td>2025-07-14T18:21:46.226Z</td><td>2025-07-14T18:41:08.649Z</td></tr><tr><td>P0113</td><td>Brian Richardson</td><td>Male</td><td>Dominican Republic</td><td>2025-07-14T18:37:51.022Z</td><td>50</td><td>2025-07-14T18:21:46.226Z</td><td>2025-07-14T18:41:08.649Z</td></tr><tr><td>P0149</td><td>Katherine Bowen DVM</td><td>Male</td><td>Mexico</td><td>2025-07-14T18:37:51.022Z</td><td>53</td><td>2025-07-14T18:21:46.226Z</td><td>2025-07-14T18:41:08.649Z</td></tr><tr><td>P0158</td><td>Jamie Mcneil</td><td>Male</td><td>Burundi</td><td>2025-07-14T18:37:51.022Z</td><td>76</td><td>2025-07-14T18:21:46.226Z</td><td>2025-07-14T18:41:08.649Z</td></tr><tr><td>P0155</td><td>Robert Singleton</td><td>Female</td><td>Northern Mariana Islands</td><td>2025-07-14T18:37:51.022Z</td><td>82</td><td>2025-07-14T18:21:46.226Z</td><td>2025-07-14T18:41:08.649Z</td></tr><tr><td>P0196</td><td>Monica Dillon</td><td>Female</td><td>Belarus</td><td>2025-07-14T18:37:51.022Z</td><td>86</td><td>2025-07-14T18:21:46.226Z</td><td>2025-07-14T18:41:08.649Z</td></tr><tr><td>P0154</td><td>Angel Thompson</td><td>Female</td><td>Gambia</td><td>2025-07-14T18:37:51.022Z</td><td>110</td><td>2025-07-14T18:21:46.226Z</td><td>2025-07-14T18:41:08.649Z</td></tr><tr><td>P0106</td><td>Joshua Shepherd Jr.</td><td>Female</td><td>Netherlands</td><td>2025-07-14T18:37:51.022Z</td><td>197</td><td>2025-07-14T18:21:46.226Z</td><td>2025-07-14T18:41:08.649Z</td></tr></tbody></table></div>"
      ]
     },
     "metadata": {
      "application/vnd.databricks.v1+output": {
       "addedWidgets": {},
       "aggData": [],
       "aggError": "",
       "aggOverflow": false,
       "aggSchema": [],
       "aggSeriesLimitReached": false,
       "aggType": "",
       "arguments": {},
       "columnCustomDisplayInfos": {},
       "data": [
        [
         "P0049",
         "Justin Thomas",
         "Female",
         "Tokelau",
         "2025-07-14T18:37:51.022Z",
         7,
         "2025-07-14T18:21:46.226Z",
         "2025-07-14T18:41:08.649Z"
        ],
        [
         "P0108",
         "Brian Anderson",
         "Female",
         "Eritrea",
         "2025-07-14T18:37:51.022Z",
         36,
         "2025-07-14T18:21:46.226Z",
         "2025-07-14T18:41:08.649Z"
        ],
        [
         "P0032",
         "Daniel Douglas",
         "Male",
         "Singapore",
         "2025-07-14T18:37:51.022Z",
         46,
         "2025-07-14T18:21:46.226Z",
         "2025-07-14T18:41:08.649Z"
        ],
        [
         "P0113",
         "Brian Richardson",
         "Male",
         "Dominican Republic",
         "2025-07-14T18:37:51.022Z",
         50,
         "2025-07-14T18:21:46.226Z",
         "2025-07-14T18:41:08.649Z"
        ],
        [
         "P0149",
         "Katherine Bowen DVM",
         "Male",
         "Mexico",
         "2025-07-14T18:37:51.022Z",
         53,
         "2025-07-14T18:21:46.226Z",
         "2025-07-14T18:41:08.649Z"
        ],
        [
         "P0158",
         "Jamie Mcneil",
         "Male",
         "Burundi",
         "2025-07-14T18:37:51.022Z",
         76,
         "2025-07-14T18:21:46.226Z",
         "2025-07-14T18:41:08.649Z"
        ],
        [
         "P0155",
         "Robert Singleton",
         "Female",
         "Northern Mariana Islands",
         "2025-07-14T18:37:51.022Z",
         82,
         "2025-07-14T18:21:46.226Z",
         "2025-07-14T18:41:08.649Z"
        ],
        [
         "P0196",
         "Monica Dillon",
         "Female",
         "Belarus",
         "2025-07-14T18:37:51.022Z",
         86,
         "2025-07-14T18:21:46.226Z",
         "2025-07-14T18:41:08.649Z"
        ],
        [
         "P0154",
         "Angel Thompson",
         "Female",
         "Gambia",
         "2025-07-14T18:37:51.022Z",
         110,
         "2025-07-14T18:21:46.226Z",
         "2025-07-14T18:41:08.649Z"
        ],
        [
         "P0106",
         "Joshua Shepherd Jr.",
         "Female",
         "Netherlands",
         "2025-07-14T18:37:51.022Z",
         197,
         "2025-07-14T18:21:46.226Z",
         "2025-07-14T18:41:08.649Z"
        ]
       ],
       "datasetInfos": [
        {
         "name": "_sqldf",
         "schema": {
          "fields": [
           {
            "metadata": {},
            "name": "passenger_id",
            "nullable": true,
            "type": "string"
           },
           {
            "metadata": {},
            "name": "name",
            "nullable": true,
            "type": "string"
           },
           {
            "metadata": {},
            "name": "gender",
            "nullable": true,
            "type": "string"
           },
           {
            "metadata": {},
            "name": "nationality",
            "nullable": true,
            "type": "string"
           },
           {
            "metadata": {},
            "name": "modifiedDate",
            "nullable": true,
            "type": "timestamp"
           },
           {
            "metadata": {},
            "name": "DimPassengersKey",
            "nullable": true,
            "type": "long"
           },
           {
            "metadata": {},
            "name": "create_date",
            "nullable": true,
            "type": "timestamp"
           },
           {
            "metadata": {},
            "name": "update_date",
            "nullable": true,
            "type": "timestamp"
           }
          ],
          "type": "struct"
         },
         "tableIdentifier": null,
         "typeStr": "pyspark.sql.connect.dataframe.DataFrame"
        }
       ],
       "dbfsResultPath": null,
       "isJsonSchema": true,
       "metadata": {
        "createTempViewForImplicitDf": true,
        "dataframeName": "_sqldf",
        "executionCount": 8
       },
       "overflow": false,
       "plotOptions": {
        "customPlotOptions": {},
        "displayType": "table",
        "pivotAggregation": null,
        "pivotColumns": null,
        "xColumns": null,
        "yColumns": null
       },
       "removedWidgets": [],
       "schema": [
        {
         "metadata": "{}",
         "name": "passenger_id",
         "type": "\"string\""
        },
        {
         "metadata": "{}",
         "name": "name",
         "type": "\"string\""
        },
        {
         "metadata": "{}",
         "name": "gender",
         "type": "\"string\""
        },
        {
         "metadata": "{}",
         "name": "nationality",
         "type": "\"string\""
        },
        {
         "metadata": "{}",
         "name": "modifiedDate",
         "type": "\"timestamp\""
        },
        {
         "metadata": "{}",
         "name": "DimPassengersKey",
         "type": "\"long\""
        },
        {
         "metadata": "{}",
         "name": "create_date",
         "type": "\"timestamp\""
        },
        {
         "metadata": "{}",
         "name": "update_date",
         "type": "\"timestamp\""
        }
       ],
       "type": "table"
      }
     },
     "output_type": "display_data"
    }
   ],
   "source": [
    "%sql\n",
    "SELECT * FROM workspace.gold.dimpassengers LIMIT 10"
   ]
  }
 ],
 "metadata": {
  "application/vnd.databricks.v1+notebook": {
   "computePreferences": null,
   "dashboards": [],
   "environmentMetadata": {
    "base_environment": "",
    "environment_version": "2"
   },
   "inputWidgetPreferences": null,
   "language": "python",
   "notebookMetadata": {
    "mostRecentlyExecutedCommandWithImplicitDF": {
     "commandId": 7930040106767628,
     "dataframes": [
      "_sqldf"
     ]
    },
    "pythonIndentUnit": 4
   },
   "notebookName": "Gold_DIMS",
   "widgets": {}
  },
  "language_info": {
   "name": "python"
  }
 },
 "nbformat": 4,
 "nbformat_minor": 0
}