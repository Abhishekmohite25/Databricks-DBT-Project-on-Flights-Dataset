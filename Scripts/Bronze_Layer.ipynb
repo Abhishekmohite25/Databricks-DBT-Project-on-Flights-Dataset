{
 "cells": [
  {
   "cell_type": "markdown",
   "metadata": {
    "application/vnd.databricks.v1+cell": {
     "cellMetadata": {
      "byteLimit": 2048000,
      "rowLimit": 10000
     },
     "inputWidgets": {},
     "nuid": "9c7074c2-7e66-4500-921e-b1e9f5aa9af9",
     "showTitle": false,
     "tableResultSettingsMap": {},
     "title": ""
    }
   },
   "source": [
    "# Incremental Data Ingestion"
   ]
  },
  {
   "cell_type": "markdown",
   "metadata": {
    "application/vnd.databricks.v1+cell": {
     "cellMetadata": {},
     "inputWidgets": {},
     "nuid": "ea58a184-aad4-4286-8c27-968ac63edb63",
     "showTitle": false,
     "tableResultSettingsMap": {},
     "title": ""
    }
   },
   "source": [
    "### Dynamic Parameter for fetching all folders"
   ]
  },
  {
   "cell_type": "code",
   "execution_count": 0,
   "metadata": {
    "application/vnd.databricks.v1+cell": {
     "cellMetadata": {
      "byteLimit": 2048000,
      "rowLimit": 10000
     },
     "inputWidgets": {},
     "nuid": "e3632b6c-7724-4a8a-9a5b-ac4b1dd52095",
     "showTitle": false,
     "tableResultSettingsMap": {},
     "title": ""
    }
   },
   "outputs": [],
   "source": [
    "dbutils.widgets.text('src','')"
   ]
  },
  {
   "cell_type": "code",
   "execution_count": 0,
   "metadata": {
    "application/vnd.databricks.v1+cell": {
     "cellMetadata": {
      "byteLimit": 2048000,
      "rowLimit": 10000
     },
     "inputWidgets": {},
     "nuid": "4c85a5a9-ab03-49d2-b459-33baec51be04",
     "showTitle": false,
     "tableResultSettingsMap": {},
     "title": ""
    }
   },
   "outputs": [],
   "source": [
    "src_value = dbutils.widgets.get('src')"
   ]
  },
  {
   "cell_type": "markdown",
   "metadata": {
    "application/vnd.databricks.v1+cell": {
     "cellMetadata": {},
     "inputWidgets": {},
     "nuid": "e0421c73-60e2-4e2e-9037-52abfa57daae",
     "showTitle": false,
     "tableResultSettingsMap": {},
     "title": ""
    }
   },
   "source": [
    "### Reading Data"
   ]
  },
  {
   "cell_type": "code",
   "execution_count": 0,
   "metadata": {
    "application/vnd.databricks.v1+cell": {
     "cellMetadata": {
      "byteLimit": 2048000,
      "rowLimit": 10000
     },
     "inputWidgets": {},
     "nuid": "82144c51-c98a-434b-b1b4-6ca7d731c90c",
     "showTitle": false,
     "tableResultSettingsMap": {},
     "title": ""
    }
   },
   "outputs": [],
   "source": [
    "df = spark.readStream.format(\"cloudFiles\")\\\n",
    "                .option(\"cloudFiles.format\",\"csv\")\\\n",
    "                .option(\"cloudFiles.schemaLocation\", f\"/Volumes/workspace/bronze/bronzevolume/{src_value}/checkpoint\")\\\n",
    "                .option(\"cloudFiles.schemaEvolutionMode\", \"rescue\")\\\n",
    "                .load(f\"/Volumes/workspace/raw/rawvolume/rawdata/{src_value}/\")"
   ]
  },
  {
   "cell_type": "markdown",
   "metadata": {
    "application/vnd.databricks.v1+cell": {
     "cellMetadata": {},
     "inputWidgets": {},
     "nuid": "8c7bdbe0-23f6-4cc7-9d27-13283a8d6908",
     "showTitle": false,
     "tableResultSettingsMap": {},
     "title": ""
    }
   },
   "source": [
    "### Writing Data"
   ]
  },
  {
   "cell_type": "code",
   "execution_count": 0,
   "metadata": {
    "application/vnd.databricks.v1+cell": {
     "cellMetadata": {
      "byteLimit": 2048000,
      "rowLimit": 10000
     },
     "inputWidgets": {},
     "nuid": "c0c36514-75ae-4cc9-9d47-a06728d58e37",
     "showTitle": false,
     "tableResultSettingsMap": {},
     "title": ""
    }
   },
   "outputs": [
    {
     "output_type": "execute_result",
     "data": {
      "text/plain": [
       "<pyspark.sql.connect.streaming.query.StreamingQuery at 0xffd30abe7350>"
      ]
     },
     "execution_count": 52,
     "metadata": {},
     "output_type": "execute_result"
    }
   ],
   "source": [
    "df.writeStream.format('delta')\\\n",
    "                .outputMode('append')\\\n",
    "                .trigger(once=True)\\\n",
    "                .option('checkpointLocation',f'/Volumes/workspace/bronze/bronzevolume/{src_value}/checkpoint')\\\n",
    "                .option('path',f'/Volumes/workspace/bronze/bronzevolume/{src_value}/data')\\\n",
    "                .start()"
   ]
  },
  {
   "cell_type": "markdown",
   "metadata": {
    "application/vnd.databricks.v1+cell": {
     "cellMetadata": {},
     "inputWidgets": {},
     "nuid": "a93216a7-e576-4d38-863b-7e13a7fc545a",
     "showTitle": false,
     "tableResultSettingsMap": {},
     "title": ""
    }
   },
   "source": [
    "### Checking uploaded Bronze layer data"
   ]
  },
  {
   "cell_type": "code",
   "execution_count": 0,
   "metadata": {
    "application/vnd.databricks.v1+cell": {
     "cellMetadata": {
      "byteLimit": 2048000,
      "implicitDf": true,
      "rowLimit": 10000
     },
     "inputWidgets": {},
     "nuid": "751de7b5-800a-4dc7-9757-ce2cb6c77c58",
     "showTitle": false,
     "tableResultSettingsMap": {
      "0": {
       "dataGridStateBlob": "{\"version\":1,\"tableState\":{\"columnPinning\":{\"left\":[\"#row_number#\"],\"right\":[]},\"columnSizing\":{},\"columnVisibility\":{}},\"settings\":{\"columns\":{}},\"syncTimestamp\":1752426112880}",
       "filterBlob": null,
       "queryPlanFiltersBlob": null,
       "tableResultIndex": 0
      }
     },
     "title": ""
    }
   },
   "outputs": [
    {
     "output_type": "display_data",
     "data": {
      "text/html": [
       "<style scoped>\n",
       "  .table-result-container {\n",
       "    max-height: 300px;\n",
       "    overflow: auto;\n",
       "  }\n",
       "  table, th, td {\n",
       "    border: 1px solid black;\n",
       "    border-collapse: collapse;\n",
       "  }\n",
       "  th, td {\n",
       "    padding: 5px;\n",
       "  }\n",
       "  th {\n",
       "    text-align: left;\n",
       "  }\n",
       "</style><div class='table-result-container'><table class='table-result'><thead style='background-color: white'><tr><th>flight_id</th><th>airline</th><th>origin</th><th>destination</th><th>flight_date</th><th>_rescued_data</th></tr></thead><tbody><tr><td>F0001</td><td>Delta</td><td>Kellyfort</td><td>South Kathleen</td><td>2025-05-04</td><td>null</td></tr><tr><td>F0002</td><td>Qatar Airways</td><td>Lake Stephen</td><td>New Vincent</td><td>2025-04-29</td><td>null</td></tr><tr><td>F0003</td><td>Lufthansa</td><td>East Patrickborough</td><td>North Mary</td><td>2025-05-11</td><td>null</td></tr><tr><td>F0004</td><td>Delta</td><td>Maddenshire</td><td>Johnchester</td><td>2025-05-16</td><td>null</td></tr><tr><td>F0005</td><td>Qatar Airways</td><td>Bennettside</td><td>New Mistyhaven</td><td>2025-06-13</td><td>null</td></tr><tr><td>F0006</td><td>Air Canada</td><td>New Richardside</td><td>South Jamesborough</td><td>2025-05-16</td><td>null</td></tr><tr><td>F0007</td><td>Delta</td><td>Berryport</td><td>Miguelburgh</td><td>2025-05-24</td><td>null</td></tr><tr><td>F0008</td><td>Lufthansa</td><td>Briannachester</td><td>Cervantesland</td><td>2025-05-26</td><td>null</td></tr><tr><td>F0009</td><td>Delta</td><td>Alexandraborough</td><td>North Alexishaven</td><td>2025-06-10</td><td>null</td></tr><tr><td>F0010</td><td>Emirates</td><td>Kruegerchester</td><td>Martintown</td><td>2025-05-20</td><td>null</td></tr></tbody></table></div>"
      ]
     },
     "metadata": {
      "application/vnd.databricks.v1+output": {
       "addedWidgets": {},
       "aggData": [],
       "aggError": "",
       "aggOverflow": false,
       "aggSchema": [],
       "aggSeriesLimitReached": false,
       "aggType": "",
       "arguments": {},
       "columnCustomDisplayInfos": {},
       "data": [
        [
         "F0001",
         "Delta",
         "Kellyfort",
         "South Kathleen",
         "2025-05-04",
         null
        ],
        [
         "F0002",
         "Qatar Airways",
         "Lake Stephen",
         "New Vincent",
         "2025-04-29",
         null
        ],
        [
         "F0003",
         "Lufthansa",
         "East Patrickborough",
         "North Mary",
         "2025-05-11",
         null
        ],
        [
         "F0004",
         "Delta",
         "Maddenshire",
         "Johnchester",
         "2025-05-16",
         null
        ],
        [
         "F0005",
         "Qatar Airways",
         "Bennettside",
         "New Mistyhaven",
         "2025-06-13",
         null
        ],
        [
         "F0006",
         "Air Canada",
         "New Richardside",
         "South Jamesborough",
         "2025-05-16",
         null
        ],
        [
         "F0007",
         "Delta",
         "Berryport",
         "Miguelburgh",
         "2025-05-24",
         null
        ],
        [
         "F0008",
         "Lufthansa",
         "Briannachester",
         "Cervantesland",
         "2025-05-26",
         null
        ],
        [
         "F0009",
         "Delta",
         "Alexandraborough",
         "North Alexishaven",
         "2025-06-10",
         null
        ],
        [
         "F0010",
         "Emirates",
         "Kruegerchester",
         "Martintown",
         "2025-05-20",
         null
        ]
       ],
       "datasetInfos": [
        {
         "name": "_sqldf",
         "schema": {
          "fields": [
           {
            "metadata": {},
            "name": "flight_id",
            "nullable": true,
            "type": "string"
           },
           {
            "metadata": {},
            "name": "airline",
            "nullable": true,
            "type": "string"
           },
           {
            "metadata": {},
            "name": "origin",
            "nullable": true,
            "type": "string"
           },
           {
            "metadata": {},
            "name": "destination",
            "nullable": true,
            "type": "string"
           },
           {
            "metadata": {
             "__detected_date_formats": "yyyy-M-d"
            },
            "name": "flight_date",
            "nullable": true,
            "type": "string"
           },
           {
            "metadata": {},
            "name": "_rescued_data",
            "nullable": true,
            "type": "string"
           }
          ],
          "type": "struct"
         },
         "tableIdentifier": null,
         "typeStr": "pyspark.sql.connect.dataframe.DataFrame"
        }
       ],
       "dbfsResultPath": null,
       "isJsonSchema": true,
       "metadata": {
        "createTempViewForImplicitDf": true,
        "dataframeName": "_sqldf",
        "executionCount": 2
       },
       "overflow": false,
       "plotOptions": {
        "customPlotOptions": {},
        "displayType": "table",
        "pivotAggregation": null,
        "pivotColumns": null,
        "xColumns": null,
        "yColumns": null
       },
       "removedWidgets": [],
       "schema": [
        {
         "metadata": "{}",
         "name": "flight_id",
         "type": "\"string\""
        },
        {
         "metadata": "{}",
         "name": "airline",
         "type": "\"string\""
        },
        {
         "metadata": "{}",
         "name": "origin",
         "type": "\"string\""
        },
        {
         "metadata": "{}",
         "name": "destination",
         "type": "\"string\""
        },
        {
         "metadata": "{\"__detected_date_formats\": \"yyyy-M-d\"}",
         "name": "flight_date",
         "type": "\"string\""
        },
        {
         "metadata": "{}",
         "name": "_rescued_data",
         "type": "\"string\""
        }
       ],
       "type": "table"
      }
     },
     "output_type": "display_data"
    }
   ],
   "source": [
    "%sql\n",
    "SELECT * FROM delta.`/Volumes/workspace/bronze/bronzevolume/flights/data` LIMIT 10"
   ]
  }
 ],
 "metadata": {
  "application/vnd.databricks.v1+notebook": {
   "computePreferences": null,
   "dashboards": [],
   "environmentMetadata": {
    "base_environment": "",
    "environment_version": "2"
   },
   "inputWidgetPreferences": null,
   "language": "python",
   "notebookMetadata": {
    "mostRecentlyExecutedCommandWithImplicitDF": {
     "commandId": 6868857317269946,
     "dataframes": [
      "_sqldf"
     ]
    },
    "pythonIndentUnit": 4
   },
   "notebookName": "Bronze_Layer",
   "widgets": {
    "src": {
     "currentValue": "bookings",
     "nuid": "7037ae97-4d98-422d-b1d6-5eacf2f516fd",
     "typedWidgetInfo": {
      "autoCreated": false,
      "defaultValue": "",
      "label": null,
      "name": "src",
      "options": {
       "widgetDisplayType": "Text",
       "validationRegex": null
      },
      "parameterDataType": "String"
     },
     "widgetInfo": {
      "widgetType": "text",
      "defaultValue": "",
      "label": null,
      "name": "src",
      "options": {
       "widgetType": "text",
       "autoCreated": null,
       "validationRegex": null
      }
     }
    }
   }
  },
  "language_info": {
   "name": "python"
  }
 },
 "nbformat": 4,
 "nbformat_minor": 0
}