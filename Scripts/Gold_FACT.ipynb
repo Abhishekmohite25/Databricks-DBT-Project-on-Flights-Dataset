{
 "cells": [
  {
   "cell_type": "markdown",
   "metadata": {
    "application/vnd.databricks.v1+cell": {
     "cellMetadata": {
      "byteLimit": 2048000,
      "rowLimit": 10000
     },
     "inputWidgets": {},
     "nuid": "d9a5236f-6151-4182-ae78-59b067af2f6e",
     "showTitle": false,
     "tableResultSettingsMap": {},
     "title": ""
    }
   },
   "source": [
    "# **Parameters**"
   ]
  },
  {
   "cell_type": "code",
   "execution_count": 0,
   "metadata": {
    "application/vnd.databricks.v1+cell": {
     "cellMetadata": {
      "byteLimit": 2048000,
      "rowLimit": 10000
     },
     "inputWidgets": {},
     "nuid": "27d25caa-518f-4287-b48e-5aa2d621b7b0",
     "showTitle": false,
     "tableResultSettingsMap": {},
     "title": ""
    }
   },
   "outputs": [],
   "source": [
    "#Catalog Name\n",
    "catalog = \"workspace\"\n",
    "\n",
    "#Source Object\n",
    "source_object = \"silver_bookings\"\n",
    "\n",
    "#Source Schema\n",
    "source_schema = \"silver\"\n",
    "\n",
    "#CDC Column\n",
    "cdc_column = \"modifiedDate\"\n",
    "\n",
    "#Back dated Refresh\n",
    "backdated_refresh = \"\"\n",
    "\n",
    "#Source Fact Table\n",
    "fact_table = f\"{catalog}.{source_schema}.{source_object}\"\n",
    "\n",
    "#Target Object\n",
    "target_object = \"FactBookings\"\n",
    "\n",
    "#Target Schema\n",
    "target_schema = \"gold\"\n",
    "\n",
    "#Fact Key Cols List\n",
    "fact_key_cols = [\"DimPassengersKey\",\"DimFlightsKey\",\"DimAirportsKey\",\"booking_date\"]"
   ]
  },
  {
   "cell_type": "code",
   "execution_count": 0,
   "metadata": {
    "application/vnd.databricks.v1+cell": {
     "cellMetadata": {
      "byteLimit": 2048000,
      "rowLimit": 10000
     },
     "inputWidgets": {},
     "nuid": "79a5f4fb-4dac-484c-9a45-82b3f1ff930b",
     "showTitle": false,
     "tableResultSettingsMap": {},
     "title": ""
    }
   },
   "outputs": [],
   "source": [
    "dimensions = [\n",
    "    {\n",
    "        \"table\" : f\"{catalog}.{target_schema}.DimPassengers\",\n",
    "        \"alias\" : \"DimPassengers\",\n",
    "        \"join_keys\" : [(\"passenger_id\", \"passenger_id\")] #(fact_col, dim_col)\n",
    "    },\n",
    "    {\n",
    "        \"table\" : f\"{catalog}.{target_schema}.DimFlights\",\n",
    "        \"alias\" : \"DimFlights\",\n",
    "        \"join_keys\" : [(\"flight_id\", \"flight_id\")] #(fact_col, dim_col)\n",
    "    },\n",
    "    {\n",
    "        \"table\" : f\"{catalog}.{target_schema}.DimAirports\",\n",
    "        \"alias\" : \"DimAirports\",\n",
    "        \"join_keys\" : [(\"airport_id\", \"airport_id\")] #(fact_col, dim_col)\n",
    "    }\n",
    "]\n",
    "\n",
    "#Columns you want to keep from Fact Table (besides the surrogate keys)\n",
    "fact_columns = [\"amount\",\"booking_date\",\"modifiedDate\"]"
   ]
  },
  {
   "cell_type": "markdown",
   "metadata": {
    "application/vnd.databricks.v1+cell": {
     "cellMetadata": {
      "byteLimit": 2048000,
      "rowLimit": 10000
     },
     "inputWidgets": {},
     "nuid": "1b38b90d-4506-4c5d-bdb4-63329a1db7ba",
     "showTitle": false,
     "tableResultSettingsMap": {},
     "title": ""
    }
   },
   "source": [
    "### LAST LOAD DATE"
   ]
  },
  {
   "cell_type": "code",
   "execution_count": 0,
   "metadata": {
    "application/vnd.databricks.v1+cell": {
     "cellMetadata": {
      "byteLimit": 2048000,
      "rowLimit": 10000
     },
     "inputWidgets": {},
     "nuid": "e6daf71c-4770-4939-8965-ed24278f554f",
     "showTitle": false,
     "tableResultSettingsMap": {},
     "title": ""
    }
   },
   "outputs": [
    {
     "output_type": "execute_result",
     "data": {
      "text/plain": [
       "datetime.datetime(2025, 7, 14, 7, 0, 46, 165000)"
      ]
     },
     "execution_count": 30,
     "metadata": {},
     "output_type": "execute_result"
    }
   ],
   "source": [
    "#No Back Dated Refresh\n",
    "if len(backdated_refresh) == 0:\n",
    "    \n",
    "    #If table exists in the destination \n",
    "    if spark.catalog.tableExists(f\"{catalog}.{target_schema}.{target_object}\"):\n",
    "\n",
    "        last_load = spark.sql(f\"SELECT max({cdc_column}) FROM {catalog}.{target_schema}.{target_object}\").collect()[0][0]\n",
    "    \n",
    "    else:\n",
    "        \n",
    "        last_load = \"1900-01-01 00:00:00\"\n",
    "\n",
    "#Back Dated Refresh\n",
    "else:\n",
    "\n",
    "    last_load = backdated_refresh\n",
    "\n",
    "last_load"
   ]
  },
  {
   "cell_type": "markdown",
   "metadata": {
    "application/vnd.databricks.v1+cell": {
     "cellMetadata": {
      "byteLimit": 2048000,
      "rowLimit": 10000
     },
     "inputWidgets": {},
     "nuid": "ae43dfa9-b81e-42f4-939c-96d4694b61fa",
     "showTitle": false,
     "tableResultSettingsMap": {},
     "title": ""
    }
   },
   "source": [
    "## Dynamic Fact Key [Bring Keys]"
   ]
  },
  {
   "cell_type": "code",
   "execution_count": 0,
   "metadata": {
    "application/vnd.databricks.v1+cell": {
     "cellMetadata": {
      "byteLimit": 2048000,
      "rowLimit": 10000
     },
     "inputWidgets": {},
     "nuid": "80e3275d-7bfb-42ce-952f-ac9b16342e6d",
     "showTitle": false,
     "tableResultSettingsMap": {},
     "title": ""
    }
   },
   "outputs": [],
   "source": [
    "def generate_fact_query_incremental(fact_table, dimensions, fact_columns, cdc_column, processing_date):\n",
    "    fact_alias = \"f\"\n",
    "\n",
    "    #Base columns to select\n",
    "    select_cols = [f\"{fact_alias}.{col}\" for col in fact_columns]\n",
    "\n",
    "    #Build joins dynamically\n",
    "    join_clauses = []\n",
    "    for dim in dimensions:\n",
    "        table_full = dim[\"table\"]\n",
    "        alias = dim[\"alias\"]\n",
    "        table_name = table_full.split('.')[-1]\n",
    "        surrogate_key = f\"{alias}.{table_name}Key\"\n",
    "        select_cols.append(surrogate_key)\n",
    "\n",
    "        #Build ON Clause\n",
    "        on_conditions = [\n",
    "            f\"{fact_alias}.{fk} = {alias}.{dk}\" for fk,dk in dim[\"join_keys\"]\n",
    "        ]\n",
    "        join_clause = f\"LEFT JOIN {table_full} {alias} ON \" + \" AND \".join(on_conditions)\n",
    "        join_clauses.append(join_clause)\n",
    "        \n",
    "    #Final SELECT and JOIN clauses\n",
    "    select_clause = \",\\n   \".join(select_cols)\n",
    "    joins = \"\\n\".join(join_clauses)\n",
    "\n",
    "    #WHERE clause for incremental filtering\n",
    "    where_clause = f\"{fact_alias}.{cdc_column} >= DATE('{last_load}')\"\n",
    "\n",
    "    #Final query\n",
    "    query = f\"\"\"\n",
    "        SELECT  \n",
    "        {select_clause}\n",
    "    FROM  {fact_table} {fact_alias}\n",
    "        {joins}\n",
    "    WHERE {where_clause}\n",
    "    \"\"\".strip()\n",
    "\n",
    "    return query"
   ]
  },
  {
   "cell_type": "code",
   "execution_count": 0,
   "metadata": {
    "application/vnd.databricks.v1+cell": {
     "cellMetadata": {
      "byteLimit": 2048000,
      "rowLimit": 10000
     },
     "inputWidgets": {},
     "nuid": "ce3d196e-50f4-4ac6-aa47-c039885bd909",
     "showTitle": false,
     "tableResultSettingsMap": {},
     "title": ""
    }
   },
   "outputs": [],
   "source": [
    "query = generate_fact_query_incremental(fact_table, dimensions, fact_columns, cdc_column, last_load)"
   ]
  },
  {
   "cell_type": "markdown",
   "metadata": {
    "application/vnd.databricks.v1+cell": {
     "cellMetadata": {
      "byteLimit": 2048000,
      "rowLimit": 10000
     },
     "inputWidgets": {},
     "nuid": "21ddffb9-1479-471b-92d6-314cb16b8860",
     "showTitle": false,
     "tableResultSettingsMap": {},
     "title": ""
    }
   },
   "source": [
    "## DF_FACT"
   ]
  },
  {
   "cell_type": "code",
   "execution_count": 0,
   "metadata": {
    "application/vnd.databricks.v1+cell": {
     "cellMetadata": {
      "byteLimit": 2048000,
      "rowLimit": 10000
     },
     "inputWidgets": {},
     "nuid": "928403c0-0d34-42ee-8f6e-1f487ffd2d69",
     "showTitle": false,
     "tableResultSettingsMap": {},
     "title": ""
    }
   },
   "outputs": [],
   "source": [
    "df_fact = spark.sql(query)"
   ]
  },
  {
   "cell_type": "code",
   "execution_count": 0,
   "metadata": {
    "application/vnd.databricks.v1+cell": {
     "cellMetadata": {
      "byteLimit": 2048000,
      "rowLimit": 10000
     },
     "inputWidgets": {},
     "nuid": "b35af01c-78ad-4ec8-a28c-daf5564d21ac",
     "showTitle": false,
     "tableResultSettingsMap": {},
     "title": ""
    }
   },
   "outputs": [
    {
     "output_type": "display_data",
     "data": {
      "text/html": [
       "<style scoped>\n",
       "  .table-result-container {\n",
       "    max-height: 300px;\n",
       "    overflow: auto;\n",
       "  }\n",
       "  table, th, td {\n",
       "    border: 1px solid black;\n",
       "    border-collapse: collapse;\n",
       "  }\n",
       "  th, td {\n",
       "    padding: 5px;\n",
       "  }\n",
       "  th {\n",
       "    text-align: left;\n",
       "  }\n",
       "</style><div class='table-result-container'><table class='table-result'><thead style='background-color: white'><tr><th>amount</th><th>booking_date</th><th>modifiedDate</th><th>DimPassengersKey</th><th>DimFlightsKey</th><th>DimAirportsKey</th></tr></thead><tbody><tr><td>850.72</td><td>2025-05-29</td><td>2025-07-14T07:00:46.165Z</td><td>128</td><td>2</td><td>28</td></tr><tr><td>376.63</td><td>2025-06-09</td><td>2025-07-14T07:00:46.165Z</td><td>44</td><td>4</td><td>15</td></tr><tr><td>534.02</td><td>2025-06-03</td><td>2025-07-14T07:00:46.165Z</td><td>105</td><td>38</td><td>1</td></tr><tr><td>1333.7</td><td>2025-06-16</td><td>2025-07-14T07:00:46.165Z</td><td>141</td><td>61</td><td>18</td></tr><tr><td>1334.96</td><td>2025-06-17</td><td>2025-07-14T07:00:46.165Z</td><td>43</td><td>21</td><td>40</td></tr><tr><td>296.13</td><td>2025-05-18</td><td>2025-07-14T07:00:46.165Z</td><td>151</td><td>13</td><td>26</td></tr><tr><td>460.14</td><td>2025-04-05</td><td>2025-07-14T07:00:46.165Z</td><td>181</td><td>47</td><td>33</td></tr><tr><td>1402.02</td><td>2025-06-04</td><td>2025-07-14T07:00:46.165Z</td><td>98</td><td>74</td><td>34</td></tr><tr><td>1444.51</td><td>2025-05-16</td><td>2025-07-14T07:00:46.165Z</td><td>92</td><td>17</td><td>33</td></tr><tr><td>292.39</td><td>2025-05-16</td><td>2025-07-14T07:00:46.165Z</td><td>74</td><td>59</td><td>24</td></tr></tbody></table></div>"
      ]
     },
     "metadata": {
      "application/vnd.databricks.v1+output": {
       "addedWidgets": {},
       "aggData": [],
       "aggError": "",
       "aggOverflow": false,
       "aggSchema": [],
       "aggSeriesLimitReached": false,
       "aggType": "",
       "arguments": {},
       "columnCustomDisplayInfos": {},
       "data": [
        [
         850.72,
         "2025-05-29",
         "2025-07-14T07:00:46.165Z",
         128,
         2,
         28
        ],
        [
         376.63,
         "2025-06-09",
         "2025-07-14T07:00:46.165Z",
         44,
         4,
         15
        ],
        [
         534.02,
         "2025-06-03",
         "2025-07-14T07:00:46.165Z",
         105,
         38,
         1
        ],
        [
         1333.7,
         "2025-06-16",
         "2025-07-14T07:00:46.165Z",
         141,
         61,
         18
        ],
        [
         1334.96,
         "2025-06-17",
         "2025-07-14T07:00:46.165Z",
         43,
         21,
         40
        ],
        [
         296.13,
         "2025-05-18",
         "2025-07-14T07:00:46.165Z",
         151,
         13,
         26
        ],
        [
         460.14,
         "2025-04-05",
         "2025-07-14T07:00:46.165Z",
         181,
         47,
         33
        ],
        [
         1402.02,
         "2025-06-04",
         "2025-07-14T07:00:46.165Z",
         98,
         74,
         34
        ],
        [
         1444.51,
         "2025-05-16",
         "2025-07-14T07:00:46.165Z",
         92,
         17,
         33
        ],
        [
         292.39,
         "2025-05-16",
         "2025-07-14T07:00:46.165Z",
         74,
         59,
         24
        ]
       ],
       "datasetInfos": [],
       "dbfsResultPath": null,
       "isJsonSchema": true,
       "metadata": {},
       "overflow": false,
       "plotOptions": {
        "customPlotOptions": {},
        "displayType": "table",
        "pivotAggregation": null,
        "pivotColumns": null,
        "xColumns": null,
        "yColumns": null
       },
       "removedWidgets": [],
       "schema": [
        {
         "metadata": "{}",
         "name": "amount",
         "type": "\"double\""
        },
        {
         "metadata": "{}",
         "name": "booking_date",
         "type": "\"date\""
        },
        {
         "metadata": "{}",
         "name": "modifiedDate",
         "type": "\"timestamp\""
        },
        {
         "metadata": "{}",
         "name": "DimPassengersKey",
         "type": "\"long\""
        },
        {
         "metadata": "{}",
         "name": "DimFlightsKey",
         "type": "\"long\""
        },
        {
         "metadata": "{}",
         "name": "DimAirportsKey",
         "type": "\"long\""
        }
       ],
       "type": "table"
      }
     },
     "output_type": "display_data"
    }
   ],
   "source": [
    "df_fact.limit(10).display()"
   ]
  },
  {
   "cell_type": "markdown",
   "metadata": {
    "application/vnd.databricks.v1+cell": {
     "cellMetadata": {
      "byteLimit": 2048000,
      "rowLimit": 10000
     },
     "inputWidgets": {},
     "nuid": "19949803-0fd5-441a-b605-5e60f5a69d90",
     "showTitle": false,
     "tableResultSettingsMap": {},
     "title": ""
    }
   },
   "source": [
    "## UPSERT"
   ]
  },
  {
   "cell_type": "code",
   "execution_count": 0,
   "metadata": {
    "application/vnd.databricks.v1+cell": {
     "cellMetadata": {
      "byteLimit": 2048000,
      "rowLimit": 10000
     },
     "inputWidgets": {},
     "nuid": "4a5363aa-a78b-40d7-8d3d-e5605d9a4378",
     "showTitle": false,
     "tableResultSettingsMap": {},
     "title": ""
    }
   },
   "outputs": [
    {
     "output_type": "execute_result",
     "data": {
      "text/plain": [
       "'src.DimPassengersKey = trg.DimPassengersKey AND src.DimFlightsKey = trg.DimFlightsKey AND src.DimAirportsKey = trg.DimAirportsKey AND src.booking_date = trg.booking_date'"
      ]
     },
     "execution_count": 85,
     "metadata": {},
     "output_type": "execute_result"
    }
   ],
   "source": [
    "#Fact Key Columns Merge Condition\n",
    "fact_key_cols_str = \" AND \".join([f\"src.{col} = trg.{col}\" for col in fact_key_cols])\n",
    "fact_key_cols_str"
   ]
  },
  {
   "cell_type": "code",
   "execution_count": 0,
   "metadata": {
    "application/vnd.databricks.v1+cell": {
     "cellMetadata": {
      "byteLimit": 2048000,
      "rowLimit": 10000
     },
     "inputWidgets": {},
     "nuid": "670e4d29-6f37-40d5-9864-714292e1933b",
     "showTitle": false,
     "tableResultSettingsMap": {},
     "title": ""
    }
   },
   "outputs": [],
   "source": [
    "from delta.tables import DeltaTable"
   ]
  },
  {
   "cell_type": "code",
   "execution_count": 0,
   "metadata": {
    "application/vnd.databricks.v1+cell": {
     "cellMetadata": {
      "byteLimit": 2048000,
      "rowLimit": 10000
     },
     "inputWidgets": {},
     "nuid": "e3e7a363-ff53-445b-ac83-0ff1d5a1613c",
     "showTitle": false,
     "tableResultSettingsMap": {},
     "title": ""
    }
   },
   "outputs": [],
   "source": [
    "if spark.catalog.tableExists(f\"{catalog}.{target_schema}.{target_object}\"):\n",
    "  dlt_obj = DeltaTable.forName(spark,f\"{catalog}.{target_schema}.{target_object}\")\n",
    "  dlt_obj.alias(\"trg\").merge(df_fact.alias(\"src\"),fact_key_cols_str)\\\n",
    "                        .whenMatchedUpdateAll(condition = f'src.{cdc_column} >= trg.{cdc_column}')\\\n",
    "                        .whenNotMatchedInsertAll()\\\n",
    "                        .execute()\n",
    "else:\n",
    "  df_fact.write.format('delta')\\\n",
    "                .mode(\"append\")\\\n",
    "                .saveAsTable(f\"{catalog}.{target_schema}.{target_object}\")"
   ]
  },
  {
   "cell_type": "code",
   "execution_count": 0,
   "metadata": {
    "application/vnd.databricks.v1+cell": {
     "cellMetadata": {
      "byteLimit": 2048000,
      "implicitDf": true,
      "rowLimit": 10000
     },
     "inputWidgets": {},
     "nuid": "b086bb86-3e57-4f3b-acd3-f1d59c3ce2fe",
     "showTitle": false,
     "tableResultSettingsMap": {},
     "title": ""
    }
   },
   "outputs": [
    {
     "output_type": "display_data",
     "data": {
      "text/html": [
       "<style scoped>\n",
       "  .table-result-container {\n",
       "    max-height: 300px;\n",
       "    overflow: auto;\n",
       "  }\n",
       "  table, th, td {\n",
       "    border: 1px solid black;\n",
       "    border-collapse: collapse;\n",
       "  }\n",
       "  th, td {\n",
       "    padding: 5px;\n",
       "  }\n",
       "  th {\n",
       "    text-align: left;\n",
       "  }\n",
       "</style><div class='table-result-container'><table class='table-result'><thead style='background-color: white'><tr><th>amount</th><th>booking_date</th><th>modifiedDate</th><th>DimPassengersKey</th><th>DimFlightsKey</th><th>DimAirportsKey</th></tr></thead><tbody><tr><td>1368.6</td><td>2025-06-07</td><td>2025-07-14T07:00:46.165Z</td><td>42</td><td>88</td><td>13</td></tr><tr><td>427.56</td><td>2025-03-28</td><td>2025-07-14T07:00:46.165Z</td><td>42</td><td>66</td><td>15</td></tr><tr><td>320.52</td><td>2025-05-05</td><td>2025-07-14T07:00:46.165Z</td><td>42</td><td>95</td><td>5</td></tr><tr><td>220.26</td><td>2025-06-16</td><td>2025-07-14T07:00:46.165Z</td><td>42</td><td>43</td><td>18</td></tr><tr><td>716.33</td><td>2025-06-01</td><td>2025-07-14T07:00:46.165Z</td><td>131</td><td>54</td><td>29</td></tr><tr><td>940.65</td><td>2025-04-19</td><td>2025-07-14T07:00:46.165Z</td><td>131</td><td>79</td><td>6</td></tr><tr><td>265.87</td><td>2025-05-17</td><td>2025-07-14T07:00:46.165Z</td><td>131</td><td>25</td><td>39</td></tr><tr><td>835.11</td><td>2025-06-10</td><td>2025-07-14T07:00:46.165Z</td><td>131</td><td>37</td><td>19</td></tr><tr><td>910.26</td><td>2025-05-21</td><td>2025-07-14T07:00:46.165Z</td><td>131</td><td>85</td><td>27</td></tr><tr><td>915.79</td><td>2025-04-01</td><td>2025-07-14T07:00:46.165Z</td><td>131</td><td>76</td><td>12</td></tr></tbody></table></div>"
      ]
     },
     "metadata": {
      "application/vnd.databricks.v1+output": {
       "addedWidgets": {},
       "aggData": [],
       "aggError": "",
       "aggOverflow": false,
       "aggSchema": [],
       "aggSeriesLimitReached": false,
       "aggType": "",
       "arguments": {},
       "columnCustomDisplayInfos": {},
       "data": [
        [
         1368.6,
         "2025-06-07",
         "2025-07-14T07:00:46.165Z",
         42,
         88,
         13
        ],
        [
         427.56,
         "2025-03-28",
         "2025-07-14T07:00:46.165Z",
         42,
         66,
         15
        ],
        [
         320.52,
         "2025-05-05",
         "2025-07-14T07:00:46.165Z",
         42,
         95,
         5
        ],
        [
         220.26,
         "2025-06-16",
         "2025-07-14T07:00:46.165Z",
         42,
         43,
         18
        ],
        [
         716.33,
         "2025-06-01",
         "2025-07-14T07:00:46.165Z",
         131,
         54,
         29
        ],
        [
         940.65,
         "2025-04-19",
         "2025-07-14T07:00:46.165Z",
         131,
         79,
         6
        ],
        [
         265.87,
         "2025-05-17",
         "2025-07-14T07:00:46.165Z",
         131,
         25,
         39
        ],
        [
         835.11,
         "2025-06-10",
         "2025-07-14T07:00:46.165Z",
         131,
         37,
         19
        ],
        [
         910.26,
         "2025-05-21",
         "2025-07-14T07:00:46.165Z",
         131,
         85,
         27
        ],
        [
         915.79,
         "2025-04-01",
         "2025-07-14T07:00:46.165Z",
         131,
         76,
         12
        ]
       ],
       "datasetInfos": [
        {
         "name": "_sqldf",
         "schema": {
          "fields": [
           {
            "metadata": {},
            "name": "amount",
            "nullable": true,
            "type": "double"
           },
           {
            "metadata": {},
            "name": "booking_date",
            "nullable": true,
            "type": "date"
           },
           {
            "metadata": {},
            "name": "modifiedDate",
            "nullable": true,
            "type": "timestamp"
           },
           {
            "metadata": {},
            "name": "DimPassengersKey",
            "nullable": true,
            "type": "long"
           },
           {
            "metadata": {},
            "name": "DimFlightsKey",
            "nullable": true,
            "type": "long"
           },
           {
            "metadata": {},
            "name": "DimAirportsKey",
            "nullable": true,
            "type": "long"
           }
          ],
          "type": "struct"
         },
         "tableIdentifier": null,
         "typeStr": "pyspark.sql.connect.dataframe.DataFrame"
        }
       ],
       "dbfsResultPath": null,
       "isJsonSchema": true,
       "metadata": {
        "createTempViewForImplicitDf": true,
        "dataframeName": "_sqldf",
        "executionCount": 35
       },
       "overflow": false,
       "plotOptions": {
        "customPlotOptions": {},
        "displayType": "table",
        "pivotAggregation": null,
        "pivotColumns": null,
        "xColumns": null,
        "yColumns": null
       },
       "removedWidgets": [],
       "schema": [
        {
         "metadata": "{}",
         "name": "amount",
         "type": "\"double\""
        },
        {
         "metadata": "{}",
         "name": "booking_date",
         "type": "\"date\""
        },
        {
         "metadata": "{}",
         "name": "modifiedDate",
         "type": "\"timestamp\""
        },
        {
         "metadata": "{}",
         "name": "DimPassengersKey",
         "type": "\"long\""
        },
        {
         "metadata": "{}",
         "name": "DimFlightsKey",
         "type": "\"long\""
        },
        {
         "metadata": "{}",
         "name": "DimAirportsKey",
         "type": "\"long\""
        }
       ],
       "type": "table"
      }
     },
     "output_type": "display_data"
    }
   ],
   "source": [
    "%sql\n",
    "SELECT * FROM workspace.gold.factbookings LIMIT 10"
   ]
  },
  {
   "cell_type": "code",
   "execution_count": 0,
   "metadata": {
    "application/vnd.databricks.v1+cell": {
     "cellMetadata": {
      "byteLimit": 2048000,
      "implicitDf": true,
      "rowLimit": 10000
     },
     "inputWidgets": {},
     "nuid": "b90831c7-6609-40b4-a3aa-b932ca2d4929",
     "showTitle": false,
     "tableResultSettingsMap": {},
     "title": ""
    }
   },
   "outputs": [
    {
     "output_type": "display_data",
     "data": {
      "text/html": [
       "<style scoped>\n",
       "  .table-result-container {\n",
       "    max-height: 300px;\n",
       "    overflow: auto;\n",
       "  }\n",
       "  table, th, td {\n",
       "    border: 1px solid black;\n",
       "    border-collapse: collapse;\n",
       "  }\n",
       "  th, td {\n",
       "    padding: 5px;\n",
       "  }\n",
       "  th {\n",
       "    text-align: left;\n",
       "  }\n",
       "</style><div class='table-result-container'><table class='table-result'><thead style='background-color: white'><tr><th>country</th><th>total_amount</th></tr></thead><tbody><tr><td>South Georgia and the South Sandwich Islands</td><td>55720.81999999999</td></tr><tr><td>Libyan Arab Jamahiriya</td><td>37338.86</td></tr><tr><td>Switzerland</td><td>37338.81000000001</td></tr><tr><td>Cote d'Ivoire</td><td>28785.210000000003</td></tr><tr><td>Cayman Islands</td><td>28575.560000000005</td></tr><tr><td>Macedonia</td><td>26128.290000000005</td></tr><tr><td>Korea</td><td>25090.829999999998</td></tr><tr><td>Tokelau</td><td>25013.709999999995</td></tr><tr><td>Hong Kong</td><td>24416.46</td></tr><tr><td>Ireland</td><td>24156.390000000003</td></tr></tbody></table></div>"
      ]
     },
     "metadata": {
      "application/vnd.databricks.v1+output": {
       "addedWidgets": {},
       "aggData": [],
       "aggError": "",
       "aggOverflow": false,
       "aggSchema": [],
       "aggSeriesLimitReached": false,
       "aggType": "",
       "arguments": {},
       "columnCustomDisplayInfos": {},
       "data": [
        [
         "South Georgia and the South Sandwich Islands",
         55720.81999999999
        ],
        [
         "Libyan Arab Jamahiriya",
         37338.86
        ],
        [
         "Switzerland",
         37338.81000000001
        ],
        [
         "Cote d'Ivoire",
         28785.210000000003
        ],
        [
         "Cayman Islands",
         28575.560000000005
        ],
        [
         "Macedonia",
         26128.290000000005
        ],
        [
         "Korea",
         25090.829999999998
        ],
        [
         "Tokelau",
         25013.709999999995
        ],
        [
         "Hong Kong",
         24416.46
        ],
        [
         "Ireland",
         24156.390000000003
        ]
       ],
       "datasetInfos": [
        {
         "name": "_sqldf",
         "schema": {
          "fields": [
           {
            "metadata": {},
            "name": "country",
            "nullable": true,
            "type": "string"
           },
           {
            "metadata": {},
            "name": "total_amount",
            "nullable": true,
            "type": "double"
           }
          ],
          "type": "struct"
         },
         "tableIdentifier": null,
         "typeStr": "pyspark.sql.connect.dataframe.DataFrame"
        }
       ],
       "dbfsResultPath": null,
       "isJsonSchema": true,
       "metadata": {
        "createTempViewForImplicitDf": true,
        "dataframeName": "_sqldf",
        "executionCount": 36
       },
       "overflow": false,
       "plotOptions": {
        "customPlotOptions": {},
        "displayType": "table",
        "pivotAggregation": null,
        "pivotColumns": null,
        "xColumns": null,
        "yColumns": null
       },
       "removedWidgets": [],
       "schema": [
        {
         "metadata": "{}",
         "name": "country",
         "type": "\"string\""
        },
        {
         "metadata": "{}",
         "name": "total_amount",
         "type": "\"double\""
        }
       ],
       "type": "table"
      }
     },
     "output_type": "display_data"
    }
   ],
   "source": [
    "%sql\n",
    "SELECT * FROM workspace.dbt_amohite.my_first_business_view LIMIT 10"
   ]
  }
 ],
 "metadata": {
  "application/vnd.databricks.v1+notebook": {
   "computePreferences": null,
   "dashboards": [],
   "environmentMetadata": {
    "base_environment": "",
    "environment_version": "2"
   },
   "inputWidgetPreferences": null,
   "language": "python",
   "notebookMetadata": {
    "mostRecentlyExecutedCommandWithImplicitDF": {
     "commandId": 5839823295531032,
     "dataframes": [
      "_sqldf"
     ]
    },
    "pythonIndentUnit": 4
   },
   "notebookName": "Gold_FACT",
   "widgets": {}
  },
  "language_info": {
   "name": "python"
  }
 },
 "nbformat": 4,
 "nbformat_minor": 0
}